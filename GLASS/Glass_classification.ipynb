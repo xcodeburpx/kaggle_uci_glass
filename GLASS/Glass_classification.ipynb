{
 "cells": [
  {
   "cell_type": "code",
   "execution_count": 22,
   "metadata": {
    "collapsed": false
   },
   "outputs": [],
   "source": [
    "import numpy as np\n",
    "import pandas as pd\n",
    "import matplotlib.pyplot as plt\n",
    "import matplotlib\n",
    "\n",
    "from sklearn.svm import SVC, LinearSVC\n",
    "from sklearn.neighbors import KNeighborsClassifier\n",
    "from sklearn.naive_bayes import GaussianNB, MultinomialNB\n",
    "from sklearn.linear_model import LogisticRegression, RidgeClassifier, \\\n",
    "                                 SGDClassifier\n",
    "from sklearn.ensemble import RandomForestClassifier\n",
    "from sklearn.ensemble import AdaBoostClassifier, GradientBoostingClassifier\n",
    "from sklearn.gaussian_process import GaussianProcessClassifier\n",
    "from sklearn.tree import DecisionTreeClassifier, ExtraTreeClassifier\n",
    "\n",
    "from sklearn.feature_selection import SelectFromModel, \\\n",
    "                                      GenericUnivariateSelect\n",
    "from sklearn.metrics import accuracy_score, f1_score\n",
    "from sklearn.model_selection import KFold, train_test_split, \\\n",
    "                                    StratifiedShuffleSplit\n",
    "from sklearn.model_selection import cross_val_score\n",
    "from sklearn.preprocessing import StandardScaler, MinMaxScaler\n",
    "\n",
    "from keras.layers import Dense, Dropout\n",
    "from keras.wrappers.scikit_learn import KerasClassifier\n",
    "from keras.models import Sequential\n",
    "\n",
    "from xgboost import XGBClassifier, plot_importance\n",
    "\n",
    "%matplotlib inline"
   ]
  },
  {
   "cell_type": "code",
   "execution_count": 23,
   "metadata": {
    "collapsed": true
   },
   "outputs": [],
   "source": [
    "dataframe = pd.read_csv(\"glass.csv\")"
   ]
  },
  {
   "cell_type": "code",
   "execution_count": 24,
   "metadata": {
    "collapsed": false,
    "scrolled": true
   },
   "outputs": [
    {
     "data": {
      "text/html": [
       "<div>\n",
       "<table border=\"1\" class=\"dataframe\">\n",
       "  <thead>\n",
       "    <tr style=\"text-align: right;\">\n",
       "      <th></th>\n",
       "      <th>RI</th>\n",
       "      <th>Na</th>\n",
       "      <th>Mg</th>\n",
       "      <th>Al</th>\n",
       "      <th>Si</th>\n",
       "      <th>K</th>\n",
       "      <th>Ca</th>\n",
       "      <th>Ba</th>\n",
       "      <th>Fe</th>\n",
       "      <th>Type</th>\n",
       "    </tr>\n",
       "  </thead>\n",
       "  <tbody>\n",
       "    <tr>\n",
       "      <th>0</th>\n",
       "      <td>1.52101</td>\n",
       "      <td>13.64</td>\n",
       "      <td>4.49</td>\n",
       "      <td>1.10</td>\n",
       "      <td>71.78</td>\n",
       "      <td>0.06</td>\n",
       "      <td>8.75</td>\n",
       "      <td>0.0</td>\n",
       "      <td>0.0</td>\n",
       "      <td>1</td>\n",
       "    </tr>\n",
       "    <tr>\n",
       "      <th>1</th>\n",
       "      <td>1.51761</td>\n",
       "      <td>13.89</td>\n",
       "      <td>3.60</td>\n",
       "      <td>1.36</td>\n",
       "      <td>72.73</td>\n",
       "      <td>0.48</td>\n",
       "      <td>7.83</td>\n",
       "      <td>0.0</td>\n",
       "      <td>0.0</td>\n",
       "      <td>1</td>\n",
       "    </tr>\n",
       "    <tr>\n",
       "      <th>2</th>\n",
       "      <td>1.51618</td>\n",
       "      <td>13.53</td>\n",
       "      <td>3.55</td>\n",
       "      <td>1.54</td>\n",
       "      <td>72.99</td>\n",
       "      <td>0.39</td>\n",
       "      <td>7.78</td>\n",
       "      <td>0.0</td>\n",
       "      <td>0.0</td>\n",
       "      <td>1</td>\n",
       "    </tr>\n",
       "    <tr>\n",
       "      <th>3</th>\n",
       "      <td>1.51766</td>\n",
       "      <td>13.21</td>\n",
       "      <td>3.69</td>\n",
       "      <td>1.29</td>\n",
       "      <td>72.61</td>\n",
       "      <td>0.57</td>\n",
       "      <td>8.22</td>\n",
       "      <td>0.0</td>\n",
       "      <td>0.0</td>\n",
       "      <td>1</td>\n",
       "    </tr>\n",
       "    <tr>\n",
       "      <th>4</th>\n",
       "      <td>1.51742</td>\n",
       "      <td>13.27</td>\n",
       "      <td>3.62</td>\n",
       "      <td>1.24</td>\n",
       "      <td>73.08</td>\n",
       "      <td>0.55</td>\n",
       "      <td>8.07</td>\n",
       "      <td>0.0</td>\n",
       "      <td>0.0</td>\n",
       "      <td>1</td>\n",
       "    </tr>\n",
       "  </tbody>\n",
       "</table>\n",
       "</div>"
      ],
      "text/plain": [
       "        RI     Na    Mg    Al     Si     K    Ca   Ba   Fe  Type\n",
       "0  1.52101  13.64  4.49  1.10  71.78  0.06  8.75  0.0  0.0     1\n",
       "1  1.51761  13.89  3.60  1.36  72.73  0.48  7.83  0.0  0.0     1\n",
       "2  1.51618  13.53  3.55  1.54  72.99  0.39  7.78  0.0  0.0     1\n",
       "3  1.51766  13.21  3.69  1.29  72.61  0.57  8.22  0.0  0.0     1\n",
       "4  1.51742  13.27  3.62  1.24  73.08  0.55  8.07  0.0  0.0     1"
      ]
     },
     "execution_count": 24,
     "metadata": {},
     "output_type": "execute_result"
    }
   ],
   "source": [
    "dataframe.head()"
   ]
  },
  {
   "cell_type": "code",
   "execution_count": 25,
   "metadata": {
    "collapsed": false
   },
   "outputs": [
    {
     "data": {
      "text/plain": [
       "array([1, 2, 3, 5, 6, 7])"
      ]
     },
     "execution_count": 25,
     "metadata": {},
     "output_type": "execute_result"
    }
   ],
   "source": [
    "dataframe['Type'].unique()"
   ]
  },
  {
   "cell_type": "code",
   "execution_count": 26,
   "metadata": {
    "collapsed": false,
    "scrolled": true
   },
   "outputs": [
    {
     "data": {
      "text/html": [
       "<div>\n",
       "<table border=\"1\" class=\"dataframe\">\n",
       "  <thead>\n",
       "    <tr style=\"text-align: right;\">\n",
       "      <th></th>\n",
       "      <th>RI</th>\n",
       "      <th>Na</th>\n",
       "      <th>Mg</th>\n",
       "      <th>Al</th>\n",
       "      <th>Si</th>\n",
       "      <th>K</th>\n",
       "      <th>Ca</th>\n",
       "      <th>Ba</th>\n",
       "      <th>Fe</th>\n",
       "      <th>Type</th>\n",
       "    </tr>\n",
       "  </thead>\n",
       "  <tbody>\n",
       "    <tr>\n",
       "      <th>0</th>\n",
       "      <td>1.52101</td>\n",
       "      <td>13.64</td>\n",
       "      <td>4.49</td>\n",
       "      <td>1.10</td>\n",
       "      <td>71.78</td>\n",
       "      <td>0.06</td>\n",
       "      <td>8.75</td>\n",
       "      <td>0.0</td>\n",
       "      <td>0.0</td>\n",
       "      <td>1</td>\n",
       "    </tr>\n",
       "    <tr>\n",
       "      <th>1</th>\n",
       "      <td>1.51761</td>\n",
       "      <td>13.89</td>\n",
       "      <td>3.60</td>\n",
       "      <td>1.36</td>\n",
       "      <td>72.73</td>\n",
       "      <td>0.48</td>\n",
       "      <td>7.83</td>\n",
       "      <td>0.0</td>\n",
       "      <td>0.0</td>\n",
       "      <td>1</td>\n",
       "    </tr>\n",
       "    <tr>\n",
       "      <th>2</th>\n",
       "      <td>1.51618</td>\n",
       "      <td>13.53</td>\n",
       "      <td>3.55</td>\n",
       "      <td>1.54</td>\n",
       "      <td>72.99</td>\n",
       "      <td>0.39</td>\n",
       "      <td>7.78</td>\n",
       "      <td>0.0</td>\n",
       "      <td>0.0</td>\n",
       "      <td>1</td>\n",
       "    </tr>\n",
       "    <tr>\n",
       "      <th>3</th>\n",
       "      <td>1.51766</td>\n",
       "      <td>13.21</td>\n",
       "      <td>3.69</td>\n",
       "      <td>1.29</td>\n",
       "      <td>72.61</td>\n",
       "      <td>0.57</td>\n",
       "      <td>8.22</td>\n",
       "      <td>0.0</td>\n",
       "      <td>0.0</td>\n",
       "      <td>1</td>\n",
       "    </tr>\n",
       "    <tr>\n",
       "      <th>4</th>\n",
       "      <td>1.51742</td>\n",
       "      <td>13.27</td>\n",
       "      <td>3.62</td>\n",
       "      <td>1.24</td>\n",
       "      <td>73.08</td>\n",
       "      <td>0.55</td>\n",
       "      <td>8.07</td>\n",
       "      <td>0.0</td>\n",
       "      <td>0.0</td>\n",
       "      <td>1</td>\n",
       "    </tr>\n",
       "  </tbody>\n",
       "</table>\n",
       "</div>"
      ],
      "text/plain": [
       "        RI     Na    Mg    Al     Si     K    Ca   Ba   Fe  Type\n",
       "0  1.52101  13.64  4.49  1.10  71.78  0.06  8.75  0.0  0.0     1\n",
       "1  1.51761  13.89  3.60  1.36  72.73  0.48  7.83  0.0  0.0     1\n",
       "2  1.51618  13.53  3.55  1.54  72.99  0.39  7.78  0.0  0.0     1\n",
       "3  1.51766  13.21  3.69  1.29  72.61  0.57  8.22  0.0  0.0     1\n",
       "4  1.51742  13.27  3.62  1.24  73.08  0.55  8.07  0.0  0.0     1"
      ]
     },
     "execution_count": 26,
     "metadata": {},
     "output_type": "execute_result"
    }
   ],
   "source": [
    "dataframe.head()"
   ]
  },
  {
   "cell_type": "code",
   "execution_count": 27,
   "metadata": {
    "collapsed": false
   },
   "outputs": [],
   "source": [
    "target = dataframe['Type']\n",
    "dataframe = dataframe.drop('Type', axis=1)"
   ]
  },
  {
   "cell_type": "code",
   "execution_count": 28,
   "metadata": {
    "collapsed": false
   },
   "outputs": [
    {
     "data": {
      "text/html": [
       "<div>\n",
       "<table border=\"1\" class=\"dataframe\">\n",
       "  <thead>\n",
       "    <tr style=\"text-align: right;\">\n",
       "      <th></th>\n",
       "      <th>RI</th>\n",
       "      <th>Na</th>\n",
       "      <th>Mg</th>\n",
       "      <th>Al</th>\n",
       "      <th>Si</th>\n",
       "      <th>K</th>\n",
       "      <th>Ca</th>\n",
       "      <th>Ba</th>\n",
       "      <th>Fe</th>\n",
       "    </tr>\n",
       "  </thead>\n",
       "  <tbody>\n",
       "    <tr>\n",
       "      <th>0</th>\n",
       "      <td>1.52101</td>\n",
       "      <td>13.64</td>\n",
       "      <td>4.49</td>\n",
       "      <td>1.10</td>\n",
       "      <td>71.78</td>\n",
       "      <td>0.06</td>\n",
       "      <td>8.75</td>\n",
       "      <td>0.0</td>\n",
       "      <td>0.0</td>\n",
       "    </tr>\n",
       "    <tr>\n",
       "      <th>1</th>\n",
       "      <td>1.51761</td>\n",
       "      <td>13.89</td>\n",
       "      <td>3.60</td>\n",
       "      <td>1.36</td>\n",
       "      <td>72.73</td>\n",
       "      <td>0.48</td>\n",
       "      <td>7.83</td>\n",
       "      <td>0.0</td>\n",
       "      <td>0.0</td>\n",
       "    </tr>\n",
       "    <tr>\n",
       "      <th>2</th>\n",
       "      <td>1.51618</td>\n",
       "      <td>13.53</td>\n",
       "      <td>3.55</td>\n",
       "      <td>1.54</td>\n",
       "      <td>72.99</td>\n",
       "      <td>0.39</td>\n",
       "      <td>7.78</td>\n",
       "      <td>0.0</td>\n",
       "      <td>0.0</td>\n",
       "    </tr>\n",
       "    <tr>\n",
       "      <th>3</th>\n",
       "      <td>1.51766</td>\n",
       "      <td>13.21</td>\n",
       "      <td>3.69</td>\n",
       "      <td>1.29</td>\n",
       "      <td>72.61</td>\n",
       "      <td>0.57</td>\n",
       "      <td>8.22</td>\n",
       "      <td>0.0</td>\n",
       "      <td>0.0</td>\n",
       "    </tr>\n",
       "    <tr>\n",
       "      <th>4</th>\n",
       "      <td>1.51742</td>\n",
       "      <td>13.27</td>\n",
       "      <td>3.62</td>\n",
       "      <td>1.24</td>\n",
       "      <td>73.08</td>\n",
       "      <td>0.55</td>\n",
       "      <td>8.07</td>\n",
       "      <td>0.0</td>\n",
       "      <td>0.0</td>\n",
       "    </tr>\n",
       "  </tbody>\n",
       "</table>\n",
       "</div>"
      ],
      "text/plain": [
       "        RI     Na    Mg    Al     Si     K    Ca   Ba   Fe\n",
       "0  1.52101  13.64  4.49  1.10  71.78  0.06  8.75  0.0  0.0\n",
       "1  1.51761  13.89  3.60  1.36  72.73  0.48  7.83  0.0  0.0\n",
       "2  1.51618  13.53  3.55  1.54  72.99  0.39  7.78  0.0  0.0\n",
       "3  1.51766  13.21  3.69  1.29  72.61  0.57  8.22  0.0  0.0\n",
       "4  1.51742  13.27  3.62  1.24  73.08  0.55  8.07  0.0  0.0"
      ]
     },
     "execution_count": 28,
     "metadata": {},
     "output_type": "execute_result"
    }
   ],
   "source": [
    "dataframe.head()"
   ]
  },
  {
   "cell_type": "code",
   "execution_count": 29,
   "metadata": {
    "collapsed": false
   },
   "outputs": [
    {
     "data": {
      "text/plain": [
       "0    1\n",
       "1    1\n",
       "2    1\n",
       "3    1\n",
       "4    1\n",
       "Name: Type, dtype: int64"
      ]
     },
     "execution_count": 29,
     "metadata": {},
     "output_type": "execute_result"
    }
   ],
   "source": [
    "target.head()"
   ]
  },
  {
   "cell_type": "code",
   "execution_count": 30,
   "metadata": {
    "collapsed": false
   },
   "outputs": [
    {
     "data": {
      "text/html": [
       "<div>\n",
       "<table border=\"1\" class=\"dataframe\">\n",
       "  <thead>\n",
       "    <tr style=\"text-align: right;\">\n",
       "      <th></th>\n",
       "      <th>RI</th>\n",
       "      <th>Na</th>\n",
       "      <th>Mg</th>\n",
       "      <th>Al</th>\n",
       "      <th>Si</th>\n",
       "      <th>K</th>\n",
       "      <th>Ca</th>\n",
       "      <th>Ba</th>\n",
       "      <th>Fe</th>\n",
       "    </tr>\n",
       "  </thead>\n",
       "  <tbody>\n",
       "    <tr>\n",
       "      <th>RI</th>\n",
       "      <td>1.000000</td>\n",
       "      <td>-0.191885</td>\n",
       "      <td>-0.122274</td>\n",
       "      <td>-0.407326</td>\n",
       "      <td>-0.542052</td>\n",
       "      <td>-0.289833</td>\n",
       "      <td>0.810403</td>\n",
       "      <td>-0.000386</td>\n",
       "      <td>0.143010</td>\n",
       "    </tr>\n",
       "    <tr>\n",
       "      <th>Na</th>\n",
       "      <td>-0.191885</td>\n",
       "      <td>1.000000</td>\n",
       "      <td>-0.273732</td>\n",
       "      <td>0.156794</td>\n",
       "      <td>-0.069809</td>\n",
       "      <td>-0.266087</td>\n",
       "      <td>-0.275442</td>\n",
       "      <td>0.326603</td>\n",
       "      <td>-0.241346</td>\n",
       "    </tr>\n",
       "    <tr>\n",
       "      <th>Mg</th>\n",
       "      <td>-0.122274</td>\n",
       "      <td>-0.273732</td>\n",
       "      <td>1.000000</td>\n",
       "      <td>-0.481799</td>\n",
       "      <td>-0.165927</td>\n",
       "      <td>0.005396</td>\n",
       "      <td>-0.443750</td>\n",
       "      <td>-0.492262</td>\n",
       "      <td>0.083060</td>\n",
       "    </tr>\n",
       "    <tr>\n",
       "      <th>Al</th>\n",
       "      <td>-0.407326</td>\n",
       "      <td>0.156794</td>\n",
       "      <td>-0.481799</td>\n",
       "      <td>1.000000</td>\n",
       "      <td>-0.005524</td>\n",
       "      <td>0.325958</td>\n",
       "      <td>-0.259592</td>\n",
       "      <td>0.479404</td>\n",
       "      <td>-0.074402</td>\n",
       "    </tr>\n",
       "    <tr>\n",
       "      <th>Si</th>\n",
       "      <td>-0.542052</td>\n",
       "      <td>-0.069809</td>\n",
       "      <td>-0.165927</td>\n",
       "      <td>-0.005524</td>\n",
       "      <td>1.000000</td>\n",
       "      <td>-0.193331</td>\n",
       "      <td>-0.208732</td>\n",
       "      <td>-0.102151</td>\n",
       "      <td>-0.094201</td>\n",
       "    </tr>\n",
       "    <tr>\n",
       "      <th>K</th>\n",
       "      <td>-0.289833</td>\n",
       "      <td>-0.266087</td>\n",
       "      <td>0.005396</td>\n",
       "      <td>0.325958</td>\n",
       "      <td>-0.193331</td>\n",
       "      <td>1.000000</td>\n",
       "      <td>-0.317836</td>\n",
       "      <td>-0.042618</td>\n",
       "      <td>-0.007719</td>\n",
       "    </tr>\n",
       "    <tr>\n",
       "      <th>Ca</th>\n",
       "      <td>0.810403</td>\n",
       "      <td>-0.275442</td>\n",
       "      <td>-0.443750</td>\n",
       "      <td>-0.259592</td>\n",
       "      <td>-0.208732</td>\n",
       "      <td>-0.317836</td>\n",
       "      <td>1.000000</td>\n",
       "      <td>-0.112841</td>\n",
       "      <td>0.124968</td>\n",
       "    </tr>\n",
       "    <tr>\n",
       "      <th>Ba</th>\n",
       "      <td>-0.000386</td>\n",
       "      <td>0.326603</td>\n",
       "      <td>-0.492262</td>\n",
       "      <td>0.479404</td>\n",
       "      <td>-0.102151</td>\n",
       "      <td>-0.042618</td>\n",
       "      <td>-0.112841</td>\n",
       "      <td>1.000000</td>\n",
       "      <td>-0.058692</td>\n",
       "    </tr>\n",
       "    <tr>\n",
       "      <th>Fe</th>\n",
       "      <td>0.143010</td>\n",
       "      <td>-0.241346</td>\n",
       "      <td>0.083060</td>\n",
       "      <td>-0.074402</td>\n",
       "      <td>-0.094201</td>\n",
       "      <td>-0.007719</td>\n",
       "      <td>0.124968</td>\n",
       "      <td>-0.058692</td>\n",
       "      <td>1.000000</td>\n",
       "    </tr>\n",
       "  </tbody>\n",
       "</table>\n",
       "</div>"
      ],
      "text/plain": [
       "          RI        Na        Mg        Al        Si         K        Ca  \\\n",
       "RI  1.000000 -0.191885 -0.122274 -0.407326 -0.542052 -0.289833  0.810403   \n",
       "Na -0.191885  1.000000 -0.273732  0.156794 -0.069809 -0.266087 -0.275442   \n",
       "Mg -0.122274 -0.273732  1.000000 -0.481799 -0.165927  0.005396 -0.443750   \n",
       "Al -0.407326  0.156794 -0.481799  1.000000 -0.005524  0.325958 -0.259592   \n",
       "Si -0.542052 -0.069809 -0.165927 -0.005524  1.000000 -0.193331 -0.208732   \n",
       "K  -0.289833 -0.266087  0.005396  0.325958 -0.193331  1.000000 -0.317836   \n",
       "Ca  0.810403 -0.275442 -0.443750 -0.259592 -0.208732 -0.317836  1.000000   \n",
       "Ba -0.000386  0.326603 -0.492262  0.479404 -0.102151 -0.042618 -0.112841   \n",
       "Fe  0.143010 -0.241346  0.083060 -0.074402 -0.094201 -0.007719  0.124968   \n",
       "\n",
       "          Ba        Fe  \n",
       "RI -0.000386  0.143010  \n",
       "Na  0.326603 -0.241346  \n",
       "Mg -0.492262  0.083060  \n",
       "Al  0.479404 -0.074402  \n",
       "Si -0.102151 -0.094201  \n",
       "K  -0.042618 -0.007719  \n",
       "Ca -0.112841  0.124968  \n",
       "Ba  1.000000 -0.058692  \n",
       "Fe -0.058692  1.000000  "
      ]
     },
     "execution_count": 30,
     "metadata": {},
     "output_type": "execute_result"
    }
   ],
   "source": [
    "dataframe.corr()"
   ]
  },
  {
   "cell_type": "code",
   "execution_count": 31,
   "metadata": {
    "collapsed": true
   },
   "outputs": [],
   "source": [
    "X  = dataframe.as_matrix()\n",
    "y = target.as_matrix()"
   ]
  },
  {
   "cell_type": "code",
   "execution_count": 32,
   "metadata": {
    "collapsed": false
   },
   "outputs": [
    {
     "data": {
      "text/plain": [
       "(214, 9)"
      ]
     },
     "execution_count": 32,
     "metadata": {},
     "output_type": "execute_result"
    }
   ],
   "source": [
    "X.shape"
   ]
  },
  {
   "cell_type": "code",
   "execution_count": 33,
   "metadata": {
    "collapsed": false
   },
   "outputs": [
    {
     "data": {
      "text/plain": [
       "(214,)"
      ]
     },
     "execution_count": 33,
     "metadata": {},
     "output_type": "execute_result"
    }
   ],
   "source": [
    "y.shape"
   ]
  },
  {
   "cell_type": "code",
   "execution_count": 34,
   "metadata": {
    "collapsed": false
   },
   "outputs": [],
   "source": [
    "def create_network():\n",
    "    \n",
    "    model = Sequential()\n",
    "    \n",
    "    model.add(Dense(32, activation='tanh', init='uniform', input_dim=X.shape[1]))\n",
    "    model.add(Dense(18, activation='tanh', init='normal'))\n",
    "    model.add(Dense(8, activation=\"sigmoid\"))\n",
    "    \n",
    "    model.compile(loss = 'categorical_crossentropy', optimizer='adam', metrics=['accuracy'])\n",
    "    return model"
   ]
  },
  {
   "cell_type": "code",
   "execution_count": 35,
   "metadata": {
    "collapsed": true
   },
   "outputs": [],
   "source": [
    "estimator = KerasClassifier(build_fn=create_network, nb_epoch=50, batch_size=5, verbose=0, shuffle=True)"
   ]
  },
  {
   "cell_type": "code",
   "execution_count": 36,
   "metadata": {
    "collapsed": true
   },
   "outputs": [],
   "source": [
    "names = [\n",
    "    'SVC',\n",
    "    'LinearSVC',\n",
    "    'KNeighborsClassifier',\n",
    "    'GaussianNB',\n",
    "    'MultinomialNB',\n",
    "    'LogisticRegression',\n",
    "    'RidgeClassifier',\n",
    "    'SGDClassifier',\n",
    "    'RandomForestClassifier',\n",
    "    'AdaBoostClassifier',\n",
    "    'GradientBoostingClassifier',\n",
    "    'GaussianProcessClassifier',\n",
    "    'DecisionTreeClassifier',\n",
    "    'ExtraTreeClassifier',\n",
    "    #'Neural Network'\n",
    "]\n",
    "\n",
    "classifiers = [\n",
    "    SVC(C=2.0, kernel='sigmoid', tol=0.0001),\n",
    "    LinearSVC(penalty='l2', loss='squared_hinge', intercept_scaling=1.5, tol=0.0001),\n",
    "    KNeighborsClassifier(),\n",
    "    GaussianNB(),\n",
    "    MultinomialNB(alpha=1.3),\n",
    "    LogisticRegression(tol=0.0001),\n",
    "    RidgeClassifier(tol=0.0001),\n",
    "    SGDClassifier(loss='modified_huber', penalty='elasticnet', n_jobs=-1),\n",
    "    RandomForestClassifier(n_estimators=20, max_features='log2', min_samples_split=3,\n",
    "                          bootstrap=True),\n",
    "    AdaBoostClassifier(),\n",
    "    GradientBoostingClassifier(learning_rate=0.01, n_estimators=250,\n",
    "                              max_depth=5, min_samples_split=3, subsample=0.9, max_features='log2'),\n",
    "    GaussianProcessClassifier(n_restarts_optimizer=2, max_iter_predict=250, n_jobs=4),\n",
    "    DecisionTreeClassifier(),\n",
    "    ExtraTreeClassifier(),\n",
    "    #estimator\n",
    "]"
   ]
  },
  {
   "cell_type": "code",
   "execution_count": 49,
   "metadata": {
    "collapsed": false
   },
   "outputs": [
    {
     "name": "stdout",
     "output_type": "stream",
     "text": [
      "Accuracy: 80.0, F1 Score: 0.7727441640485119\n"
     ]
    },
    {
     "data": {
      "text/plain": [
       "<matplotlib.axes._subplots.AxesSubplot at 0x7fc35a0df400>"
      ]
     },
     "execution_count": 49,
     "metadata": {},
     "output_type": "execute_result"
    },
    {
     "data": {
      "image/png": "[encoded data removed]",
      "text/plain": [
       "<matplotlib.figure.Figure at 0x7fc35a275dd8>"
      ]
     },
     "metadata": {},
     "output_type": "display_data"
    }
   ],
   "source": [
    "X = StandardScaler().fit_transform(X)\n",
    "X = MinMaxScaler().fit_transform(X)\n",
    "\n",
    "X_train, X_test, y_train, y_test = train_test_split(X, y, test_size=0.3)\n",
    "cv = StratifiedShuffleSplit(test_size=0.2)\n",
    "\n",
    "model = XGBClassifier(objective='multi:softmax')\n",
    "model.fit(X_train, y_train)\n",
    "\n",
    "y_pred = model.predict(X_test)\n",
    "accuracy = accuracy_score(y_test, y_pred)\n",
    "delic = delic = f1_score(y_pred=y_pred, y_true=y_test, average=\"macro\")\n",
    "print(\"Accuracy: {0}, F1 Score: {1}\".format(accuracy*100, delic))\n",
    "thresholds = np.sort(model.feature_importances_)\n",
    "plot_importance(model)\n"
   ]
  },
  {
   "cell_type": "code",
   "execution_count": 38,
   "metadata": {
    "collapsed": false,
    "scrolled": true
   },
   "outputs": [
    {
     "name": "stdout",
     "output_type": "stream",
     "text": [
      "Using classifier: SVC, Shape of data: 9, Thresh: 0.01617647148668766\n",
      "Mean: 45.81395348837209, Std: 3.8983847940093517\n",
      "Accuracy: 46.15384615384615, F1 Score: 0.24041025641025643\n",
      "\n",
      "##################################################\n",
      "\n",
      "Using classifier: LinearSVC, Shape of data: 9, Thresh: 0.01617647148668766\n",
      "Mean: 59.06976744186046, Std: 3.919139429384353\n",
      "Accuracy: 60.0, F1 Score: 0.3965034965034965\n",
      "\n",
      "##################################################\n",
      "\n",
      "Using classifier: KNeighborsClassifier, Shape of data: 9, Thresh: 0.01617647148668766\n",
      "Mean: 66.04651162790698, Std: 7.368827682676677\n",
      "Accuracy: 64.61538461538461, F1 Score: 0.4972164711295146\n",
      "\n",
      "##################################################\n",
      "\n",
      "Using classifier: GaussianNB, Shape of data: 9, Thresh: 0.01617647148668766\n",
      "Mean: 46.97674418604652, Std: 7.906976744186048\n",
      "Accuracy: 35.38461538461539, F1 Score: 0.38536922015182884\n",
      "\n",
      "##################################################\n",
      "\n",
      "Using classifier: MultinomialNB, Shape of data: 9, Thresh: 0.01617647148668766\n",
      "Mean: 44.651162790697676, Std: 5.073819588202657\n",
      "Accuracy: 43.07692307692308, F1 Score: 0.2312964375512049\n",
      "\n",
      "##################################################\n",
      "\n",
      "Using classifier: LogisticRegression, Shape of data: 9, Thresh: 0.01617647148668766\n",
      "Mean: 55.11627906976744, Std: 6.823907326102891\n",
      "Accuracy: 61.53846153846154, F1 Score: 0.38774244623301224\n",
      "\n",
      "##################################################\n",
      "\n",
      "Using classifier: RidgeClassifier, Shape of data: 9, Thresh: 0.01617647148668766\n",
      "Mean: 53.72093023255814, Std: 4.927818628003974\n",
      "Accuracy: 66.15384615384615, F1 Score: 0.4305423211786719\n",
      "\n",
      "##################################################\n",
      "\n",
      "Using classifier: SGDClassifier, Shape of data: 9, Thresh: 0.01617647148668766\n"
     ]
    },
    {
     "name": "stderr",
     "output_type": "stream",
     "text": [
      "/home/kinshiryuu/anaconda3/lib/python3.5/site-packages/sklearn/metrics/classification.py:1113: UndefinedMetricWarning: F-score is ill-defined and being set to 0.0 in labels with no predicted samples.\n",
      "  'precision', 'predicted', average, warn_for)\n",
      "/home/kinshiryuu/anaconda3/lib/python3.5/site-packages/sklearn/metrics/classification.py:1113: UndefinedMetricWarning: F-score is ill-defined and being set to 0.0 in labels with no predicted samples.\n",
      "  'precision', 'predicted', average, warn_for)\n",
      "/home/kinshiryuu/anaconda3/lib/python3.5/site-packages/sklearn/metrics/classification.py:1115: UndefinedMetricWarning: F-score is ill-defined and being set to 0.0 in labels with no true samples.\n",
      "  'recall', 'true', average, warn_for)\n",
      "/home/kinshiryuu/anaconda3/lib/python3.5/site-packages/sklearn/metrics/classification.py:1115: UndefinedMetricWarning: F-score is ill-defined and being set to 0.0 in labels with no true samples.\n",
      "  'recall', 'true', average, warn_for)\n",
      "/home/kinshiryuu/anaconda3/lib/python3.5/site-packages/sklearn/metrics/classification.py:1113: UndefinedMetricWarning: F-score is ill-defined and being set to 0.0 in labels with no predicted samples.\n",
      "  'precision', 'predicted', average, warn_for)\n",
      "/home/kinshiryuu/anaconda3/lib/python3.5/site-packages/sklearn/metrics/classification.py:1113: UndefinedMetricWarning: F-score is ill-defined and being set to 0.0 in labels with no predicted samples.\n",
      "  'precision', 'predicted', average, warn_for)\n",
      "/home/kinshiryuu/anaconda3/lib/python3.5/site-packages/sklearn/metrics/classification.py:1113: UndefinedMetricWarning: F-score is ill-defined and being set to 0.0 in labels with no predicted samples.\n",
      "  'precision', 'predicted', average, warn_for)\n"
     ]
    },
    {
     "name": "stdout",
     "output_type": "stream",
     "text": [
      "Mean: 49.302325581395344, Std: 7.339411087469534\n",
      "Accuracy: 18.461538461538463, F1 Score: 0.14153846153846156\n",
      "\n",
      "##################################################\n",
      "\n",
      "Using classifier: RandomForestClassifier, Shape of data: 9, Thresh: 0.01617647148668766\n"
     ]
    },
    {
     "name": "stderr",
     "output_type": "stream",
     "text": [
      "/home/kinshiryuu/anaconda3/lib/python3.5/site-packages/sklearn/metrics/classification.py:1113: UndefinedMetricWarning: F-score is ill-defined and being set to 0.0 in labels with no predicted samples.\n",
      "  'precision', 'predicted', average, warn_for)\n",
      "/home/kinshiryuu/anaconda3/lib/python3.5/site-packages/sklearn/metrics/classification.py:1115: UndefinedMetricWarning: F-score is ill-defined and being set to 0.0 in labels with no true samples.\n",
      "  'recall', 'true', average, warn_for)\n"
     ]
    },
    {
     "name": "stdout",
     "output_type": "stream",
     "text": [
      "Mean: 74.65116279069768, Std: 4.5867634705386084\n",
      "Accuracy: 72.3076923076923, F1 Score: 0.5595815295815295\n",
      "\n",
      "##################################################\n",
      "\n",
      "Using classifier: AdaBoostClassifier, Shape of data: 9, Thresh: 0.01617647148668766\n"
     ]
    },
    {
     "name": "stderr",
     "output_type": "stream",
     "text": [
      "/home/kinshiryuu/anaconda3/lib/python3.5/site-packages/sklearn/metrics/classification.py:1115: UndefinedMetricWarning: F-score is ill-defined and being set to 0.0 in labels with no true samples.\n",
      "  'recall', 'true', average, warn_for)\n"
     ]
    },
    {
     "name": "stdout",
     "output_type": "stream",
     "text": [
      "Mean: 44.18604651162791, Std: 6.064374330421068\n",
      "Accuracy: 43.07692307692308, F1 Score: 0.3782795698924731\n",
      "\n",
      "##################################################\n",
      "\n",
      "Using classifier: GradientBoostingClassifier, Shape of data: 9, Thresh: 0.01617647148668766\n",
      "Mean: 79.53488372093022, Std: 5.677467728248234\n",
      "Accuracy: 75.38461538461539, F1 Score: 0.7245026831535025\n",
      "\n",
      "##################################################\n",
      "\n",
      "Using classifier: GaussianProcessClassifier, Shape of data: 9, Thresh: 0.01617647148668766\n",
      "Mean: 59.06976744186046, Std: 3.919139429384355\n"
     ]
    },
    {
     "name": "stderr",
     "output_type": "stream",
     "text": [
      "/home/kinshiryuu/anaconda3/lib/python3.5/site-packages/sklearn/metrics/classification.py:1113: UndefinedMetricWarning: F-score is ill-defined and being set to 0.0 in labels with no predicted samples.\n",
      "  'precision', 'predicted', average, warn_for)\n",
      "/home/kinshiryuu/anaconda3/lib/python3.5/site-packages/sklearn/metrics/classification.py:1115: UndefinedMetricWarning: F-score is ill-defined and being set to 0.0 in labels with no true samples.\n",
      "  'recall', 'true', average, warn_for)\n",
      "/home/kinshiryuu/anaconda3/lib/python3.5/site-packages/sklearn/metrics/classification.py:1113: UndefinedMetricWarning: F-score is ill-defined and being set to 0.0 in labels with no predicted samples.\n",
      "  'precision', 'predicted', average, warn_for)\n",
      "/home/kinshiryuu/anaconda3/lib/python3.5/site-packages/sklearn/metrics/classification.py:1115: UndefinedMetricWarning: F-score is ill-defined and being set to 0.0 in labels with no true samples.\n",
      "  'recall', 'true', average, warn_for)\n",
      "/home/kinshiryuu/anaconda3/lib/python3.5/site-packages/sklearn/metrics/classification.py:1113: UndefinedMetricWarning: F-score is ill-defined and being set to 0.0 in labels with no predicted samples.\n",
      "  'precision', 'predicted', average, warn_for)\n"
     ]
    },
    {
     "name": "stdout",
     "output_type": "stream",
     "text": [
      "Accuracy: 61.53846153846154, F1 Score: 0.38731934731934736\n",
      "\n",
      "##################################################\n",
      "\n",
      "Using classifier: DecisionTreeClassifier, Shape of data: 9, Thresh: 0.01617647148668766\n",
      "Mean: 67.90697674418605, Std: 6.96122304516082\n",
      "Accuracy: 64.61538461538461, F1 Score: 0.5648363927980652\n",
      "\n",
      "##################################################\n",
      "\n",
      "Using classifier: ExtraTreeClassifier, Shape of data: 9, Thresh: 0.01617647148668766\n",
      "Mean: 68.13953488372093, Std: 2.093023255813952\n",
      "Accuracy: 61.53846153846154, F1 Score: 0.38948042985310066\n",
      "\n",
      "##################################################\n",
      "\n",
      "Using classifier: SVC, Shape of data: 8, Thresh: 0.0416666679084301\n",
      "Mean: 47.90697674418604, Std: 3.919139429384351\n",
      "Accuracy: 46.15384615384615, F1 Score: 0.24041025641025643\n",
      "\n",
      "##################################################\n",
      "\n",
      "Using classifier: LinearSVC, Shape of data: 8, Thresh: 0.0416666679084301\n",
      "Mean: 61.16279069767442, Std: 7.992018733692829\n",
      "Accuracy: 60.0, F1 Score: 0.32474747474747473\n",
      "\n",
      "##################################################\n",
      "\n",
      "Using classifier: KNeighborsClassifier, Shape of data: 8, Thresh: 0.0416666679084301\n",
      "Mean: 63.720930232558146, Std: 4.1860465116279055\n",
      "Accuracy: 64.61538461538461, F1 Score: 0.4972164711295146\n",
      "\n",
      "##################################################\n",
      "\n",
      "Using classifier: GaussianNB, Shape of data: 8, Thresh: 0.0416666679084301\n",
      "Mean: 43.02325581395349, Std: 4.192501483097662\n",
      "Accuracy: 38.46153846153847, F1 Score: 0.24526143790849672\n",
      "\n",
      "##################################################\n",
      "\n",
      "Using classifier: MultinomialNB, Shape of data: 8, Thresh: 0.0416666679084301\n",
      "Mean: 39.06976744186046, Std: 3.4178926643486207\n",
      "Accuracy: 35.38461538461539, F1 Score: 0.11971688574317493\n",
      "\n",
      "##################################################\n",
      "\n",
      "Using classifier: LogisticRegression, Shape of data: 8, Thresh: 0.0416666679084301\n",
      "Mean: 51.162790697674424, Std: 5.50333003079034\n",
      "Accuracy: 60.0, F1 Score: 0.3779590779590779\n",
      "\n",
      "##################################################\n",
      "\n",
      "Using classifier: RidgeClassifier, Shape of data: 8, Thresh: 0.0416666679084301\n",
      "Mean: 55.81395348837211, Std: 5.303141512089015\n",
      "Accuracy: 61.53846153846154, F1 Score: 0.3948717948717949\n",
      "\n",
      "##################################################\n",
      "\n",
      "Using classifier: SGDClassifier, Shape of data: 8, Thresh: 0.0416666679084301\n"
     ]
    },
    {
     "name": "stderr",
     "output_type": "stream",
     "text": [
      "/home/kinshiryuu/anaconda3/lib/python3.5/site-packages/sklearn/metrics/classification.py:1113: UndefinedMetricWarning: F-score is ill-defined and being set to 0.0 in labels with no predicted samples.\n",
      "  'precision', 'predicted', average, warn_for)\n",
      "/home/kinshiryuu/anaconda3/lib/python3.5/site-packages/sklearn/metrics/classification.py:1115: UndefinedMetricWarning: F-score is ill-defined and being set to 0.0 in labels with no true samples.\n",
      "  'recall', 'true', average, warn_for)\n",
      "/home/kinshiryuu/anaconda3/lib/python3.5/site-packages/sklearn/metrics/classification.py:1115: UndefinedMetricWarning: F-score is ill-defined and being set to 0.0 in labels with no true samples.\n",
      "  'recall', 'true', average, warn_for)\n",
      "/home/kinshiryuu/anaconda3/lib/python3.5/site-packages/sklearn/metrics/classification.py:1115: UndefinedMetricWarning: F-score is ill-defined and being set to 0.0 in labels with no true samples.\n",
      "  'recall', 'true', average, warn_for)\n",
      "/home/kinshiryuu/anaconda3/lib/python3.5/site-packages/sklearn/metrics/classification.py:1113: UndefinedMetricWarning: F-score is ill-defined and being set to 0.0 in labels with no predicted samples.\n",
      "  'precision', 'predicted', average, warn_for)\n",
      "/home/kinshiryuu/anaconda3/lib/python3.5/site-packages/sklearn/metrics/classification.py:1113: UndefinedMetricWarning: F-score is ill-defined and being set to 0.0 in labels with no predicted samples.\n",
      "  'precision', 'predicted', average, warn_for)\n",
      "/home/kinshiryuu/anaconda3/lib/python3.5/site-packages/sklearn/metrics/classification.py:1113: UndefinedMetricWarning: F-score is ill-defined and being set to 0.0 in labels with no predicted samples.\n",
      "  'precision', 'predicted', average, warn_for)\n"
     ]
    },
    {
     "name": "stdout",
     "output_type": "stream",
     "text": [
      "Mean: 48.837209302325576, Std: 4.412480456048901\n",
      "Accuracy: 52.307692307692314, F1 Score: 0.36551932367149764\n",
      "\n",
      "##################################################\n",
      "\n",
      "Using classifier: RandomForestClassifier, Shape of data: 8, Thresh: 0.0416666679084301\n"
     ]
    },
    {
     "name": "stderr",
     "output_type": "stream",
     "text": [
      "/home/kinshiryuu/anaconda3/lib/python3.5/site-packages/sklearn/metrics/classification.py:1113: UndefinedMetricWarning: F-score is ill-defined and being set to 0.0 in labels with no predicted samples.\n",
      "  'precision', 'predicted', average, warn_for)\n"
     ]
    },
    {
     "name": "stdout",
     "output_type": "stream",
     "text": [
      "Mean: 77.67441860465117, Std: 7.2205463703535\n",
      "Accuracy: 72.3076923076923, F1 Score: 0.6016043254511108\n",
      "\n",
      "##################################################\n",
      "\n",
      "Using classifier: AdaBoostClassifier, Shape of data: 8, Thresh: 0.0416666679084301\n",
      "Mean: 41.3953488372093, Std: 8.812695498370426\n",
      "Accuracy: 50.76923076923077, F1 Score: 0.42215538847117795\n",
      "\n",
      "##################################################\n",
      "\n",
      "Using classifier: GradientBoostingClassifier, Shape of data: 8, Thresh: 0.0416666679084301\n"
     ]
    },
    {
     "name": "stderr",
     "output_type": "stream",
     "text": [
      "/home/kinshiryuu/anaconda3/lib/python3.5/site-packages/sklearn/metrics/classification.py:1113: UndefinedMetricWarning: F-score is ill-defined and being set to 0.0 in labels with no predicted samples.\n",
      "  'precision', 'predicted', average, warn_for)\n"
     ]
    },
    {
     "name": "stdout",
     "output_type": "stream",
     "text": [
      "Mean: 77.20930232558139, Std: 6.478320128922848\n",
      "Accuracy: 72.3076923076923, F1 Score: 0.6515379590571407\n",
      "\n",
      "##################################################\n",
      "\n",
      "Using classifier: GaussianProcessClassifier, Shape of data: 8, Thresh: 0.0416666679084301\n",
      "Mean: 58.13953488372092, Std: 5.303141512089015\n"
     ]
    },
    {
     "name": "stderr",
     "output_type": "stream",
     "text": [
      "/home/kinshiryuu/anaconda3/lib/python3.5/site-packages/sklearn/metrics/classification.py:1113: UndefinedMetricWarning: F-score is ill-defined and being set to 0.0 in labels with no predicted samples.\n",
      "  'precision', 'predicted', average, warn_for)\n",
      "/home/kinshiryuu/anaconda3/lib/python3.5/site-packages/sklearn/metrics/classification.py:1115: UndefinedMetricWarning: F-score is ill-defined and being set to 0.0 in labels with no true samples.\n",
      "  'recall', 'true', average, warn_for)\n",
      "/home/kinshiryuu/anaconda3/lib/python3.5/site-packages/sklearn/metrics/classification.py:1115: UndefinedMetricWarning: F-score is ill-defined and being set to 0.0 in labels with no true samples.\n",
      "  'recall', 'true', average, warn_for)\n",
      "/home/kinshiryuu/anaconda3/lib/python3.5/site-packages/sklearn/metrics/classification.py:1113: UndefinedMetricWarning: F-score is ill-defined and being set to 0.0 in labels with no predicted samples.\n",
      "  'precision', 'predicted', average, warn_for)\n"
     ]
    },
    {
     "name": "stdout",
     "output_type": "stream",
     "text": [
      "Accuracy: 61.53846153846154, F1 Score: 0.38731934731934736\n",
      "\n",
      "##################################################\n",
      "\n",
      "Using classifier: DecisionTreeClassifier, Shape of data: 8, Thresh: 0.0416666679084301\n",
      "Mean: 68.6046511627907, Std: 6.7602055133714565\n",
      "Accuracy: 61.53846153846154, F1 Score: 0.44517055048969945\n",
      "\n",
      "##################################################\n",
      "\n",
      "Using classifier: ExtraTreeClassifier, Shape of data: 8, Thresh: 0.0416666679084301\n",
      "Mean: 62.32558139534884, Std: 6.96122304516082\n",
      "Accuracy: 58.46153846153847, F1 Score: 0.4518666322454805\n",
      "\n",
      "##################################################\n",
      "\n",
      "Using classifier: SVC, Shape of data: 7, Thresh: 0.061274509876966476\n",
      "Mean: 45.58139534883721, Std: 3.7786225137841676\n",
      "Accuracy: 46.15384615384615, F1 Score: 0.24041025641025643\n",
      "\n",
      "##################################################\n",
      "\n",
      "Using classifier: LinearSVC, Shape of data: 7, Thresh: 0.061274509876966476\n",
      "Mean: 60.930232558139544, Std: 4.509469634805887\n",
      "Accuracy: 55.38461538461539, F1 Score: 0.3030117093623766\n",
      "\n",
      "##################################################\n",
      "\n",
      "Using classifier: KNeighborsClassifier, Shape of data: 7, Thresh: 0.061274509876966476\n",
      "Mean: 67.44186046511629, Std: 3.449394645160772\n",
      "Accuracy: 67.6923076923077, F1 Score: 0.5066355039759295\n",
      "\n",
      "##################################################\n",
      "\n",
      "Using classifier: GaussianNB, Shape of data: 7, Thresh: 0.061274509876966476\n",
      "Mean: 41.86046511627907, Std: 3.4493946451607735\n",
      "Accuracy: 47.69230769230769, F1 Score: 0.3423072641866471\n",
      "\n",
      "##################################################\n",
      "\n",
      "Using classifier: MultinomialNB, Shape of data: 7, Thresh: 0.061274509876966476\n",
      "Mean: 35.813953488372086, Std: 1.1392975547828728\n",
      "Accuracy: 33.84615384615385, F1 Score: 0.1011494252873563\n",
      "\n",
      "##################################################\n",
      "\n",
      "Using classifier: LogisticRegression, Shape of data: 7, Thresh: 0.061274509876966476\n",
      "Mean: 56.744186046511636, Std: 7.6567802944903836\n",
      "Accuracy: 47.69230769230769, F1 Score: 0.31062494867372914\n",
      "\n",
      "##################################################\n",
      "\n",
      "Using classifier: RidgeClassifier, Shape of data: 7, Thresh: 0.061274509876966476\n",
      "Mean: 57.44186046511628, Std: 3.6102731851767516\n",
      "Accuracy: 55.38461538461539, F1 Score: 0.3618381618381618\n",
      "\n",
      "##################################################\n",
      "\n",
      "Using classifier: SGDClassifier, Shape of data: 7, Thresh: 0.061274509876966476\n"
     ]
    },
    {
     "name": "stderr",
     "output_type": "stream",
     "text": [
      "/home/kinshiryuu/anaconda3/lib/python3.5/site-packages/sklearn/metrics/classification.py:1113: UndefinedMetricWarning: F-score is ill-defined and being set to 0.0 in labels with no predicted samples.\n",
      "  'precision', 'predicted', average, warn_for)\n",
      "/home/kinshiryuu/anaconda3/lib/python3.5/site-packages/sklearn/metrics/classification.py:1115: UndefinedMetricWarning: F-score is ill-defined and being set to 0.0 in labels with no true samples.\n",
      "  'recall', 'true', average, warn_for)\n",
      "/home/kinshiryuu/anaconda3/lib/python3.5/site-packages/sklearn/metrics/classification.py:1115: UndefinedMetricWarning: F-score is ill-defined and being set to 0.0 in labels with no true samples.\n",
      "  'recall', 'true', average, warn_for)\n",
      "/home/kinshiryuu/anaconda3/lib/python3.5/site-packages/sklearn/metrics/classification.py:1115: UndefinedMetricWarning: F-score is ill-defined and being set to 0.0 in labels with no true samples.\n",
      "  'recall', 'true', average, warn_for)\n",
      "/home/kinshiryuu/anaconda3/lib/python3.5/site-packages/sklearn/metrics/classification.py:1113: UndefinedMetricWarning: F-score is ill-defined and being set to 0.0 in labels with no predicted samples.\n",
      "  'precision', 'predicted', average, warn_for)\n",
      "/home/kinshiryuu/anaconda3/lib/python3.5/site-packages/sklearn/metrics/classification.py:1113: UndefinedMetricWarning: F-score is ill-defined and being set to 0.0 in labels with no predicted samples.\n",
      "  'precision', 'predicted', average, warn_for)\n",
      "/home/kinshiryuu/anaconda3/lib/python3.5/site-packages/sklearn/metrics/classification.py:1113: UndefinedMetricWarning: F-score is ill-defined and being set to 0.0 in labels with no predicted samples.\n",
      "  'precision', 'predicted', average, warn_for)\n"
     ]
    },
    {
     "name": "stdout",
     "output_type": "stream",
     "text": [
      "Mean: 40.46511627906977, Std: 9.197079038737296\n",
      "Accuracy: 49.23076923076923, F1 Score: 0.2604323780794369\n",
      "\n",
      "##################################################\n",
      "\n",
      "Using classifier: RandomForestClassifier, Shape of data: 7, Thresh: 0.061274509876966476\n"
     ]
    },
    {
     "name": "stderr",
     "output_type": "stream",
     "text": [
      "/home/kinshiryuu/anaconda3/lib/python3.5/site-packages/sklearn/metrics/classification.py:1113: UndefinedMetricWarning: F-score is ill-defined and being set to 0.0 in labels with no predicted samples.\n",
      "  'precision', 'predicted', average, warn_for)\n",
      "/home/kinshiryuu/anaconda3/lib/python3.5/site-packages/sklearn/metrics/classification.py:1115: UndefinedMetricWarning: F-score is ill-defined and being set to 0.0 in labels with no true samples.\n",
      "  'recall', 'true', average, warn_for)\n"
     ]
    },
    {
     "name": "stdout",
     "output_type": "stream",
     "text": [
      "Mean: 76.97674418604652, Std: 5.036373913420398\n",
      "Accuracy: 73.84615384615385, F1 Score: 0.681047302641987\n",
      "\n",
      "##################################################\n",
      "\n",
      "Using classifier: AdaBoostClassifier, Shape of data: 7, Thresh: 0.061274509876966476\n",
      "Mean: 46.27906976744186, Std: 6.532359025668902\n",
      "Accuracy: 52.307692307692314, F1 Score: 0.4272408293460924\n",
      "\n",
      "##################################################\n",
      "\n",
      "Using classifier: GradientBoostingClassifier, Shape of data: 7, Thresh: 0.061274509876966476\n",
      "Mean: 77.67441860465117, Std: 4.054789714921557\n",
      "Accuracy: 72.3076923076923, F1 Score: 0.65924388398166\n",
      "\n",
      "##################################################\n",
      "\n",
      "Using classifier: GaussianProcessClassifier, Shape of data: 7, Thresh: 0.061274509876966476\n",
      "Mean: 60.930232558139544, Std: 4.743273966132822\n"
     ]
    },
    {
     "name": "stderr",
     "output_type": "stream",
     "text": [
      "/home/kinshiryuu/anaconda3/lib/python3.5/site-packages/sklearn/metrics/classification.py:1113: UndefinedMetricWarning: F-score is ill-defined and being set to 0.0 in labels with no predicted samples.\n",
      "  'precision', 'predicted', average, warn_for)\n",
      "/home/kinshiryuu/anaconda3/lib/python3.5/site-packages/sklearn/metrics/classification.py:1115: UndefinedMetricWarning: F-score is ill-defined and being set to 0.0 in labels with no true samples.\n",
      "  'recall', 'true', average, warn_for)\n",
      "/home/kinshiryuu/anaconda3/lib/python3.5/site-packages/sklearn/metrics/classification.py:1115: UndefinedMetricWarning: F-score is ill-defined and being set to 0.0 in labels with no true samples.\n",
      "  'recall', 'true', average, warn_for)\n",
      "/home/kinshiryuu/anaconda3/lib/python3.5/site-packages/sklearn/metrics/classification.py:1113: UndefinedMetricWarning: F-score is ill-defined and being set to 0.0 in labels with no predicted samples.\n",
      "  'precision', 'predicted', average, warn_for)\n"
     ]
    },
    {
     "name": "stdout",
     "output_type": "stream",
     "text": [
      "Accuracy: 53.84615384615385, F1 Score: 0.34359431825979553\n",
      "\n",
      "##################################################\n",
      "\n",
      "Using classifier: DecisionTreeClassifier, Shape of data: 7, Thresh: 0.061274509876966476\n",
      "Mean: 67.90697674418607, Std: 5.282705437953742\n",
      "Accuracy: 64.61538461538461, F1 Score: 0.5667580055877928\n",
      "\n",
      "##################################################\n",
      "\n",
      "Using classifier: ExtraTreeClassifier, Shape of data: 7, Thresh: 0.061274509876966476\n",
      "Mean: 66.27906976744187, Std: 5.99711486429192\n",
      "Accuracy: 61.53846153846154, F1 Score: 0.5352713178294574\n",
      "\n",
      "##################################################\n",
      "\n",
      "Using classifier: SVC, Shape of data: 6, Thresh: 0.07107843458652496\n",
      "Mean: 48.604651162790695, Std: 3.1971458336901195\n",
      "Accuracy: 46.15384615384615, F1 Score: 0.24041025641025643\n",
      "\n",
      "##################################################\n",
      "\n",
      "Using classifier: LinearSVC, Shape of data: 6, Thresh: 0.07107843458652496\n",
      "Mean: 60.46511627906976, Std: 5.4041628086615106"
     ]
    },
    {
     "name": "stderr",
     "output_type": "stream",
     "text": [
      "/home/kinshiryuu/anaconda3/lib/python3.5/site-packages/sklearn/metrics/classification.py:1113: UndefinedMetricWarning: F-score is ill-defined and being set to 0.0 in labels with no predicted samples.\n",
      "  'precision', 'predicted', average, warn_for)\n",
      "/home/kinshiryuu/anaconda3/lib/python3.5/site-packages/sklearn/metrics/classification.py:1115: UndefinedMetricWarning: F-score is ill-defined and being set to 0.0 in labels with no true samples.\n",
      "  'recall', 'true', average, warn_for)\n",
      "/home/kinshiryuu/anaconda3/lib/python3.5/site-packages/sklearn/metrics/classification.py:1115: UndefinedMetricWarning: F-score is ill-defined and being set to 0.0 in labels with no true samples.\n",
      "  'recall', 'true', average, warn_for)\n",
      "/home/kinshiryuu/anaconda3/lib/python3.5/site-packages/sklearn/metrics/classification.py:1113: UndefinedMetricWarning: F-score is ill-defined and being set to 0.0 in labels with no predicted samples.\n",
      "  'precision', 'predicted', average, warn_for)\n",
      "/home/kinshiryuu/anaconda3/lib/python3.5/site-packages/sklearn/metrics/classification.py:1113: UndefinedMetricWarning: F-score is ill-defined and being set to 0.0 in labels with no predicted samples.\n",
      "  'precision', 'predicted', average, warn_for)\n",
      "/home/kinshiryuu/anaconda3/lib/python3.5/site-packages/sklearn/metrics/classification.py:1113: UndefinedMetricWarning: F-score is ill-defined and being set to 0.0 in labels with no predicted samples.\n",
      "  'precision', 'predicted', average, warn_for)\n"
     ]
    },
    {
     "name": "stdout",
     "output_type": "stream",
     "text": [
      "\n",
      "Accuracy: 50.76923076923077, F1 Score: 0.3340976999513585\n",
      "\n",
      "##################################################\n",
      "\n",
      "Using classifier: KNeighborsClassifier, Shape of data: 6, Thresh: 0.07107843458652496\n",
      "Mean: 71.3953488372093, Std: 4.656973115000182\n",
      "Accuracy: 69.23076923076923, F1 Score: 0.462007021512217\n",
      "\n",
      "##################################################\n",
      "\n",
      "Using classifier: GaussianNB, Shape of data: 6, Thresh: 0.07107843458652496\n",
      "Mean: 43.25581395348837, Std: 5.220917283870614\n",
      "Accuracy: 50.76923076923077, F1 Score: 0.3550217898043985\n",
      "\n",
      "##################################################\n",
      "\n",
      "Using classifier: MultinomialNB, Shape of data: 6, Thresh: 0.07107843458652496\n",
      "Mean: 35.8139534883721, Std: 1.139297554782873\n",
      "Accuracy: 33.84615384615385, F1 Score: 0.1011494252873563\n",
      "\n",
      "##################################################\n",
      "\n",
      "Using classifier: LogisticRegression, Shape of data: 6, Thresh: 0.07107843458652496\n",
      "Mean: 56.27906976744186, Std: 5.771941230693424\n",
      "Accuracy: 47.69230769230769, F1 Score: 0.31005291005291\n",
      "\n",
      "##################################################\n",
      "\n",
      "Using classifier: RidgeClassifier, Shape of data: 6, Thresh: 0.07107843458652496\n",
      "Mean: 56.9767441860465, Std: 5.226094198661451\n",
      "Accuracy: 49.23076923076923, F1 Score: 0.3219227313566936\n",
      "\n",
      "##################################################\n",
      "\n",
      "Using classifier: SGDClassifier, Shape of data: 6, Thresh: 0.07107843458652496\n",
      "Mean: 51.86046511627907, Std: 6.415401964713359\n",
      "Accuracy: 20.0, F1 Score: 0.27075351213282245\n",
      "\n",
      "##################################################\n",
      "\n",
      "Using classifier: RandomForestClassifier, Shape of data: 6, Thresh: 0.07107843458652496\n"
     ]
    },
    {
     "name": "stderr",
     "output_type": "stream",
     "text": [
      "/home/kinshiryuu/anaconda3/lib/python3.5/site-packages/sklearn/metrics/classification.py:1115: UndefinedMetricWarning: F-score is ill-defined and being set to 0.0 in labels with no true samples.\n",
      "  'recall', 'true', average, warn_for)\n"
     ]
    },
    {
     "name": "stdout",
     "output_type": "stream",
     "text": [
      "Mean: 75.5813953488372, Std: 7.14903541811135\n",
      "Accuracy: 66.15384615384615, F1 Score: 0.580952380952381\n",
      "\n",
      "##################################################\n",
      "\n",
      "Using classifier: AdaBoostClassifier, Shape of data: 6, Thresh: 0.07107843458652496\n",
      "Mean: 41.3953488372093, Std: 11.757418288153058\n",
      "Accuracy: 52.307692307692314, F1 Score: 0.4236118598382749\n",
      "\n",
      "##################################################\n",
      "\n",
      "Using classifier: GradientBoostingClassifier, Shape of data: 6, Thresh: 0.07107843458652496\n",
      "Mean: 73.02325581395348, Std: 7.585816944325624\n",
      "Accuracy: 72.3076923076923, F1 Score: 0.5449035562994999\n",
      "\n",
      "##################################################\n",
      "\n",
      "Using classifier: GaussianProcessClassifier, Shape of data: 6, Thresh: 0.07107843458652496\n"
     ]
    },
    {
     "name": "stderr",
     "output_type": "stream",
     "text": [
      "/home/kinshiryuu/anaconda3/lib/python3.5/site-packages/sklearn/metrics/classification.py:1115: UndefinedMetricWarning: F-score is ill-defined and being set to 0.0 in labels with no true samples.\n",
      "  'recall', 'true', average, warn_for)\n"
     ]
    },
    {
     "name": "stdout",
     "output_type": "stream",
     "text": [
      "Mean: 57.67441860465116, Std: 3.8635459827525933\n"
     ]
    },
    {
     "name": "stderr",
     "output_type": "stream",
     "text": [
      "/home/kinshiryuu/anaconda3/lib/python3.5/site-packages/sklearn/metrics/classification.py:1113: UndefinedMetricWarning: F-score is ill-defined and being set to 0.0 in labels with no predicted samples.\n",
      "  'precision', 'predicted', average, warn_for)\n",
      "/home/kinshiryuu/anaconda3/lib/python3.5/site-packages/sklearn/metrics/classification.py:1115: UndefinedMetricWarning: F-score is ill-defined and being set to 0.0 in labels with no true samples.\n",
      "  'recall', 'true', average, warn_for)\n",
      "/home/kinshiryuu/anaconda3/lib/python3.5/site-packages/sklearn/metrics/classification.py:1115: UndefinedMetricWarning: F-score is ill-defined and being set to 0.0 in labels with no true samples.\n",
      "  'recall', 'true', average, warn_for)\n",
      "/home/kinshiryuu/anaconda3/lib/python3.5/site-packages/sklearn/metrics/classification.py:1113: UndefinedMetricWarning: F-score is ill-defined and being set to 0.0 in labels with no predicted samples.\n",
      "  'precision', 'predicted', average, warn_for)\n"
     ]
    },
    {
     "name": "stdout",
     "output_type": "stream",
     "text": [
      "Accuracy: 52.307692307692314, F1 Score: 0.33535762483130904\n",
      "\n",
      "##################################################\n",
      "\n",
      "Using classifier: DecisionTreeClassifier, Shape of data: 6, Thresh: 0.07107843458652496\n",
      "Mean: 69.76744186046511, Std: 6.064374330421068\n",
      "Accuracy: 67.6923076923077, F1 Score: 0.5851989280560709\n",
      "\n",
      "##################################################\n",
      "\n",
      "Using classifier: ExtraTreeClassifier, Shape of data: 6, Thresh: 0.07107843458652496\n",
      "Mean: 61.86046511627907, Std: 6.257499556778471\n",
      "Accuracy: 66.15384615384615, F1 Score: 0.5244562647754137\n",
      "\n",
      "##################################################\n",
      "\n",
      "Using classifier: SVC, Shape of data: 5, Thresh: 0.11666666716337204\n",
      "Mean: 49.76744186046512, Std: 4.4369265182183515\n",
      "Accuracy: 46.15384615384615, F1 Score: 0.24041025641025643\n",
      "\n",
      "##################################################\n",
      "\n",
      "Using classifier: LinearSVC, Shape of data: 5, Thresh: 0.11666666716337204\n",
      "Mean: 53.48837209302325, Std: 8.824960912097804\n",
      "Accuracy: 52.307692307692314, F1 Score: 0.34302301472112784\n",
      "\n",
      "##################################################\n",
      "\n",
      "Using classifier: KNeighborsClassifier, Shape of data: 5, Thresh: 0.11666666716337204\n",
      "Mean: 69.06976744186045, Std: 5.205355647813812\n",
      "Accuracy: 66.15384615384615, F1 Score: 0.4500416182733256\n",
      "\n",
      "##################################################\n",
      "\n",
      "Using classifier: GaussianNB, Shape of data: 5, Thresh: 0.11666666716337204\n",
      "Mean: 47.90697674418604, Std: 6.675674462515032\n",
      "Accuracy: 50.76923076923077, F1 Score: 0.3918767507002801\n",
      "\n",
      "##################################################\n",
      "\n",
      "Using classifier: MultinomialNB, Shape of data: 5, Thresh: 0.11666666716337204\n",
      "Mean: 35.581395348837205, Std: 1.0657152778967063\n",
      "Accuracy: 33.84615384615385, F1 Score: 0.1011494252873563\n",
      "\n",
      "##################################################\n",
      "\n",
      "Using classifier: LogisticRegression, Shape of data: 5, Thresh: 0.11666666716337204\n",
      "Mean: 55.581395348837205, Std: 5.832528466969513\n",
      "Accuracy: 47.69230769230769, F1 Score: 0.31005291005291\n",
      "\n",
      "##################################################\n",
      "\n",
      "Using classifier: RidgeClassifier, Shape of data: 5, Thresh: 0.11666666716337204\n",
      "Mean: 53.72093023255815, Std: 5.449011401795341\n",
      "Accuracy: 50.76923076923077, F1 Score: 0.33316912972085383\n",
      "\n",
      "##################################################\n",
      "\n",
      "Using classifier: SGDClassifier, Shape of data: 5, Thresh: 0.11666666716337204\n"
     ]
    },
    {
     "name": "stderr",
     "output_type": "stream",
     "text": [
      "/home/kinshiryuu/anaconda3/lib/python3.5/site-packages/sklearn/metrics/classification.py:1113: UndefinedMetricWarning: F-score is ill-defined and being set to 0.0 in labels with no predicted samples.\n",
      "  'precision', 'predicted', average, warn_for)\n",
      "/home/kinshiryuu/anaconda3/lib/python3.5/site-packages/sklearn/metrics/classification.py:1115: UndefinedMetricWarning: F-score is ill-defined and being set to 0.0 in labels with no true samples.\n",
      "  'recall', 'true', average, warn_for)\n",
      "/home/kinshiryuu/anaconda3/lib/python3.5/site-packages/sklearn/metrics/classification.py:1115: UndefinedMetricWarning: F-score is ill-defined and being set to 0.0 in labels with no true samples.\n",
      "  'recall', 'true', average, warn_for)\n",
      "/home/kinshiryuu/anaconda3/lib/python3.5/site-packages/sklearn/metrics/classification.py:1113: UndefinedMetricWarning: F-score is ill-defined and being set to 0.0 in labels with no predicted samples.\n",
      "  'precision', 'predicted', average, warn_for)\n",
      "/home/kinshiryuu/anaconda3/lib/python3.5/site-packages/sklearn/metrics/classification.py:1113: UndefinedMetricWarning: F-score is ill-defined and being set to 0.0 in labels with no predicted samples.\n",
      "  'precision', 'predicted', average, warn_for)\n",
      "/home/kinshiryuu/anaconda3/lib/python3.5/site-packages/sklearn/metrics/classification.py:1113: UndefinedMetricWarning: F-score is ill-defined and being set to 0.0 in labels with no predicted samples.\n",
      "  'precision', 'predicted', average, warn_for)\n"
     ]
    },
    {
     "name": "stdout",
     "output_type": "stream",
     "text": [
      "Mean: 45.34883720930233, Std: 11.309596665849142\n",
      "Accuracy: 47.69230769230769, F1 Score: 0.34116770186335404\n",
      "\n",
      "##################################################\n",
      "\n",
      "Using classifier: RandomForestClassifier, Shape of data: 5, Thresh: 0.11666666716337204\n"
     ]
    },
    {
     "name": "stderr",
     "output_type": "stream",
     "text": [
      "/home/kinshiryuu/anaconda3/lib/python3.5/site-packages/sklearn/metrics/classification.py:1113: UndefinedMetricWarning: F-score is ill-defined and being set to 0.0 in labels with no predicted samples.\n",
      "  'precision', 'predicted', average, warn_for)\n"
     ]
    },
    {
     "name": "stdout",
     "output_type": "stream",
     "text": [
      "Mean: 74.88372093023257, Std: 6.135305096871124\n",
      "Accuracy: 67.6923076923077, F1 Score: 0.5676967240797028\n",
      "\n",
      "##################################################\n",
      "\n",
      "Using classifier: AdaBoostClassifier, Shape of data: 5, Thresh: 0.11666666716337204\n",
      "Mean: 46.97674418604652, Std: 3.0852323631213023\n",
      "Accuracy: 53.84615384615385, F1 Score: 0.6152271060092389\n",
      "\n",
      "##################################################\n",
      "\n",
      "Using classifier: GradientBoostingClassifier, Shape of data: 5, Thresh: 0.11666666716337204\n",
      "Mean: 72.7906976744186, Std: 4.034732923929646\n",
      "Accuracy: 70.76923076923077, F1 Score: 0.5073696145124716\n",
      "\n",
      "##################################################\n",
      "\n",
      "Using classifier: GaussianProcessClassifier, Shape of data: 5, Thresh: 0.11666666716337204\n"
     ]
    },
    {
     "name": "stderr",
     "output_type": "stream",
     "text": [
      "/home/kinshiryuu/anaconda3/lib/python3.5/site-packages/sklearn/metrics/classification.py:1115: UndefinedMetricWarning: F-score is ill-defined and being set to 0.0 in labels with no true samples.\n",
      "  'recall', 'true', average, warn_for)\n"
     ]
    },
    {
     "name": "stdout",
     "output_type": "stream",
     "text": [
      "Mean: 59.76744186046512, Std: 5.887901814498679\n"
     ]
    },
    {
     "name": "stderr",
     "output_type": "stream",
     "text": [
      "/home/kinshiryuu/anaconda3/lib/python3.5/site-packages/sklearn/metrics/classification.py:1113: UndefinedMetricWarning: F-score is ill-defined and being set to 0.0 in labels with no predicted samples.\n",
      "  'precision', 'predicted', average, warn_for)\n",
      "/home/kinshiryuu/anaconda3/lib/python3.5/site-packages/sklearn/metrics/classification.py:1115: UndefinedMetricWarning: F-score is ill-defined and being set to 0.0 in labels with no true samples.\n",
      "  'recall', 'true', average, warn_for)\n",
      "/home/kinshiryuu/anaconda3/lib/python3.5/site-packages/sklearn/metrics/classification.py:1115: UndefinedMetricWarning: F-score is ill-defined and being set to 0.0 in labels with no true samples.\n",
      "  'recall', 'true', average, warn_for)\n",
      "/home/kinshiryuu/anaconda3/lib/python3.5/site-packages/sklearn/metrics/classification.py:1113: UndefinedMetricWarning: F-score is ill-defined and being set to 0.0 in labels with no predicted samples.\n",
      "  'precision', 'predicted', average, warn_for)\n"
     ]
    },
    {
     "name": "stdout",
     "output_type": "stream",
     "text": [
      "Accuracy: 52.307692307692314, F1 Score: 0.33535762483130904\n",
      "\n",
      "##################################################\n",
      "\n",
      "Using classifier: DecisionTreeClassifier, Shape of data: 5, Thresh: 0.11666666716337204\n",
      "Mean: 69.76744186046511, Std: 5.303141512089013\n",
      "Accuracy: 56.92307692307692, F1 Score: 0.4301418439716312\n",
      "\n",
      "##################################################\n",
      "\n",
      "Using classifier: ExtraTreeClassifier, Shape of data: 5, Thresh: 0.11666666716337204\n",
      "Mean: 60.69767441860465, Std: 5.449011401795341\n",
      "Accuracy: 63.07692307692307, F1 Score: 0.448265042451089\n",
      "\n",
      "##################################################\n",
      "\n",
      "Using classifier: SVC, Shape of data: 4, Thresh: 0.12254901975393295\n",
      "Mean: 53.25581395348837, Std: 6.104374301584508\n",
      "Accuracy: 47.69230769230769, F1 Score: 0.25938714634366805\n",
      "\n",
      "##################################################\n",
      "\n",
      "Using classifier: LinearSVC, Shape of data: 4, Thresh: 0.12254901975393295\n",
      "Mean: 64.18604651162792, Std: 4.313310928137537\n",
      "Accuracy: 55.38461538461539, F1 Score: 0.35511826674617375\n",
      "\n",
      "##################################################\n",
      "\n",
      "Using classifier: KNeighborsClassifier, Shape of data: 4, Thresh: 0.12254901975393295\n",
      "Mean: 70.0, Std: 5.832528466969513\n",
      "Accuracy: 64.61538461538461, F1 Score: 0.48613953488372086\n",
      "\n",
      "##################################################\n",
      "\n",
      "Using classifier: GaussianNB, Shape of data: 4, Thresh: 0.12254901975393295\n",
      "Mean: 47.90697674418605, Std: 3.778622513784168\n",
      "Accuracy: 44.61538461538462, F1 Score: 0.3200308463466358\n",
      "\n",
      "##################################################\n",
      "\n",
      "Using classifier: MultinomialNB, Shape of data: 4, Thresh: 0.12254901975393295\n",
      "Mean: 35.8139534883721, Std: 1.139297554782873\n",
      "Accuracy: 33.84615384615385, F1 Score: 0.1011494252873563\n",
      "\n",
      "##################################################\n",
      "\n",
      "Using classifier: LogisticRegression, Shape of data: 4, Thresh: 0.12254901975393295\n",
      "Mean: 56.511627906976734, Std: 5.79531897412889\n",
      "Accuracy: 55.38461538461539, F1 Score: 0.35511826674617375\n",
      "\n",
      "##################################################\n",
      "\n",
      "Using classifier: RidgeClassifier, Shape of data: 4, Thresh: 0.12254901975393295\n",
      "Mean: 53.95348837209303, Std: 5.17931568635351\n",
      "Accuracy: 61.53846153846154, F1 Score: 0.39325018341892887\n",
      "\n",
      "##################################################\n",
      "\n",
      "Using classifier: SGDClassifier, Shape of data: 4, Thresh: 0.12254901975393295\n"
     ]
    },
    {
     "name": "stderr",
     "output_type": "stream",
     "text": [
      "/home/kinshiryuu/anaconda3/lib/python3.5/site-packages/sklearn/metrics/classification.py:1113: UndefinedMetricWarning: F-score is ill-defined and being set to 0.0 in labels with no predicted samples.\n",
      "  'precision', 'predicted', average, warn_for)\n",
      "/home/kinshiryuu/anaconda3/lib/python3.5/site-packages/sklearn/metrics/classification.py:1113: UndefinedMetricWarning: F-score is ill-defined and being set to 0.0 in labels with no predicted samples.\n",
      "  'precision', 'predicted', average, warn_for)\n",
      "/home/kinshiryuu/anaconda3/lib/python3.5/site-packages/sklearn/metrics/classification.py:1115: UndefinedMetricWarning: F-score is ill-defined and being set to 0.0 in labels with no true samples.\n",
      "  'recall', 'true', average, warn_for)\n",
      "/home/kinshiryuu/anaconda3/lib/python3.5/site-packages/sklearn/metrics/classification.py:1113: UndefinedMetricWarning: F-score is ill-defined and being set to 0.0 in labels with no predicted samples.\n",
      "  'precision', 'predicted', average, warn_for)\n",
      "/home/kinshiryuu/anaconda3/lib/python3.5/site-packages/sklearn/metrics/classification.py:1113: UndefinedMetricWarning: F-score is ill-defined and being set to 0.0 in labels with no predicted samples.\n",
      "  'precision', 'predicted', average, warn_for)\n",
      "/home/kinshiryuu/anaconda3/lib/python3.5/site-packages/sklearn/metrics/classification.py:1113: UndefinedMetricWarning: F-score is ill-defined and being set to 0.0 in labels with no predicted samples.\n",
      "  'precision', 'predicted', average, warn_for)\n"
     ]
    },
    {
     "name": "stdout",
     "output_type": "stream",
     "text": [
      "Mean: 41.86046511627907, Std: 8.385002966195325\n",
      "Accuracy: 46.15384615384615, F1 Score: 0.24041025641025643\n",
      "\n",
      "##################################################\n",
      "\n",
      "Using classifier: RandomForestClassifier, Shape of data: 4, Thresh: 0.12254901975393295\n"
     ]
    },
    {
     "name": "stderr",
     "output_type": "stream",
     "text": [
      "/home/kinshiryuu/anaconda3/lib/python3.5/site-packages/sklearn/metrics/classification.py:1113: UndefinedMetricWarning: F-score is ill-defined and being set to 0.0 in labels with no predicted samples.\n",
      "  'precision', 'predicted', average, warn_for)\n"
     ]
    },
    {
     "name": "stdout",
     "output_type": "stream",
     "text": [
      "Mean: 74.65116279069768, Std: 7.814091914609972\n",
      "Accuracy: 67.6923076923077, F1 Score: 0.5347338935574231\n",
      "\n",
      "##################################################\n",
      "\n",
      "Using classifier: AdaBoostClassifier, Shape of data: 4, Thresh: 0.12254901975393295\n",
      "Mean: 43.488372093023266, Std: 5.308238237448059\n",
      "Accuracy: 46.15384615384615, F1 Score: 0.4345567476002259\n",
      "\n",
      "##################################################\n",
      "\n",
      "Using classifier: GradientBoostingClassifier, Shape of data: 4, Thresh: 0.12254901975393295\n"
     ]
    },
    {
     "name": "stderr",
     "output_type": "stream",
     "text": [
      "/home/kinshiryuu/anaconda3/lib/python3.5/site-packages/sklearn/metrics/classification.py:1113: UndefinedMetricWarning: F-score is ill-defined and being set to 0.0 in labels with no predicted samples.\n",
      "  'precision', 'predicted', average, warn_for)\n"
     ]
    },
    {
     "name": "stdout",
     "output_type": "stream",
     "text": [
      "Mean: 73.72093023255812, Std: 4.993235012461369\n",
      "Accuracy: 67.6923076923077, F1 Score: 0.4538775510204082\n",
      "\n",
      "##################################################\n",
      "\n",
      "Using classifier: GaussianProcessClassifier, Shape of data: 4, Thresh: 0.12254901975393295\n"
     ]
    },
    {
     "name": "stderr",
     "output_type": "stream",
     "text": [
      "/home/kinshiryuu/anaconda3/lib/python3.5/site-packages/sklearn/metrics/classification.py:1115: UndefinedMetricWarning: F-score is ill-defined and being set to 0.0 in labels with no true samples.\n",
      "  'recall', 'true', average, warn_for)\n"
     ]
    },
    {
     "name": "stdout",
     "output_type": "stream",
     "text": [
      "Mean: 61.16279069767442, Std: 6.415401964713359\n"
     ]
    },
    {
     "name": "stderr",
     "output_type": "stream",
     "text": [
      "/home/kinshiryuu/anaconda3/lib/python3.5/site-packages/sklearn/metrics/classification.py:1113: UndefinedMetricWarning: F-score is ill-defined and being set to 0.0 in labels with no predicted samples.\n",
      "  'precision', 'predicted', average, warn_for)\n",
      "/home/kinshiryuu/anaconda3/lib/python3.5/site-packages/sklearn/metrics/classification.py:1115: UndefinedMetricWarning: F-score is ill-defined and being set to 0.0 in labels with no true samples.\n",
      "  'recall', 'true', average, warn_for)\n",
      "/home/kinshiryuu/anaconda3/lib/python3.5/site-packages/sklearn/metrics/classification.py:1115: UndefinedMetricWarning: F-score is ill-defined and being set to 0.0 in labels with no true samples.\n",
      "  'recall', 'true', average, warn_for)\n",
      "/home/kinshiryuu/anaconda3/lib/python3.5/site-packages/sklearn/metrics/classification.py:1113: UndefinedMetricWarning: F-score is ill-defined and being set to 0.0 in labels with no predicted samples.\n",
      "  'precision', 'predicted', average, warn_for)\n"
     ]
    },
    {
     "name": "stdout",
     "output_type": "stream",
     "text": [
      "Accuracy: 56.92307692307692, F1 Score: 0.36325008325008323\n",
      "\n",
      "##################################################\n",
      "\n",
      "Using classifier: DecisionTreeClassifier, Shape of data: 4, Thresh: 0.12254901975393295\n",
      "Mean: 66.97674418604652, Std: 5.38411018734429\n",
      "Accuracy: 55.38461538461539, F1 Score: 0.4097348685583979\n",
      "\n",
      "##################################################\n",
      "\n",
      "Using classifier: ExtraTreeClassifier, Shape of data: 4, Thresh: 0.12254901975393295\n",
      "Mean: 65.58139534883722, Std: 5.282705437953743\n",
      "Accuracy: 60.0, F1 Score: 0.37864313596129523\n",
      "\n",
      "##################################################\n",
      "\n",
      "Using classifier: SVC, Shape of data: 3, Thresh: 0.12401960790157318\n",
      "Mean: 46.04651162790698, Std: 3.2558139534883708\n",
      "Accuracy: 44.61538461538462, F1 Score: 0.23203203203203207\n",
      "\n",
      "##################################################\n",
      "\n",
      "Using classifier: LinearSVC, Shape of data: 3, Thresh: 0.12401960790157318\n",
      "Mean: 51.86046511627907, Std: 4.166621597016027\n",
      "Accuracy: 55.38461538461539, F1 Score: 0.35655716832187423\n",
      "\n",
      "##################################################\n",
      "\n",
      "Using classifier: KNeighborsClassifier, Shape of data: 3, Thresh: 0.12401960790157318\n",
      "Mean: 72.7906976744186, Std: 6.980619078978435\n",
      "Accuracy: 66.15384615384615, F1 Score: 0.48665863483139227\n",
      "\n",
      "##################################################\n",
      "\n",
      "Using classifier: GaussianNB, Shape of data: 3, Thresh: 0.12401960790157318\n",
      "Mean: 46.04651162790698, Std: 6.309144170349088\n",
      "Accuracy: 35.38461538461539, F1 Score: 0.21353874883286647\n",
      "\n",
      "##################################################\n",
      "\n",
      "Using classifier: MultinomialNB, Shape of data: 3, Thresh: 0.12401960790157318\n",
      "Mean: 34.65116279069768, Std: 0.6976744186046508\n",
      "Accuracy: 33.84615384615385, F1 Score: 0.1011494252873563\n",
      "\n",
      "##################################################\n",
      "\n",
      "Using classifier: LogisticRegression, Shape of data: 3, Thresh: 0.12401960790157318\n",
      "Mean: 52.55813953488373, Std: 7.069155420265425\n",
      "Accuracy: 53.84615384615385, F1 Score: 0.33641025641025635\n",
      "\n",
      "##################################################\n",
      "\n",
      "Using classifier: RidgeClassifier, Shape of data: 3, Thresh: 0.12401960790157318\n",
      "Mean: 49.302325581395344, Std: 2.904650231813208\n",
      "Accuracy: 58.46153846153847, F1 Score: 0.36842054497226917\n",
      "\n",
      "##################################################\n",
      "\n",
      "Using classifier: SGDClassifier, Shape of data: 3, Thresh: 0.12401960790157318\n"
     ]
    },
    {
     "name": "stderr",
     "output_type": "stream",
     "text": [
      "/home/kinshiryuu/anaconda3/lib/python3.5/site-packages/sklearn/metrics/classification.py:1113: UndefinedMetricWarning: F-score is ill-defined and being set to 0.0 in labels with no predicted samples.\n",
      "  'precision', 'predicted', average, warn_for)\n",
      "/home/kinshiryuu/anaconda3/lib/python3.5/site-packages/sklearn/metrics/classification.py:1113: UndefinedMetricWarning: F-score is ill-defined and being set to 0.0 in labels with no predicted samples.\n",
      "  'precision', 'predicted', average, warn_for)\n",
      "/home/kinshiryuu/anaconda3/lib/python3.5/site-packages/sklearn/metrics/classification.py:1115: UndefinedMetricWarning: F-score is ill-defined and being set to 0.0 in labels with no true samples.\n",
      "  'recall', 'true', average, warn_for)\n",
      "/home/kinshiryuu/anaconda3/lib/python3.5/site-packages/sklearn/metrics/classification.py:1113: UndefinedMetricWarning: F-score is ill-defined and being set to 0.0 in labels with no predicted samples.\n",
      "  'precision', 'predicted', average, warn_for)\n",
      "/home/kinshiryuu/anaconda3/lib/python3.5/site-packages/sklearn/metrics/classification.py:1113: UndefinedMetricWarning: F-score is ill-defined and being set to 0.0 in labels with no predicted samples.\n",
      "  'precision', 'predicted', average, warn_for)\n",
      "/home/kinshiryuu/anaconda3/lib/python3.5/site-packages/sklearn/metrics/classification.py:1113: UndefinedMetricWarning: F-score is ill-defined and being set to 0.0 in labels with no predicted samples.\n",
      "  'precision', 'predicted', average, warn_for)\n"
     ]
    },
    {
     "name": "stdout",
     "output_type": "stream",
     "text": [
      "Mean: 40.69767441860465, Std: 9.714697011258336\n",
      "Accuracy: 46.15384615384615, F1 Score: 0.3098803492219009\n",
      "\n",
      "##################################################\n",
      "\n",
      "Using classifier: RandomForestClassifier, Shape of data: 3, Thresh: 0.12401960790157318\n"
     ]
    },
    {
     "name": "stderr",
     "output_type": "stream",
     "text": [
      "/home/kinshiryuu/anaconda3/lib/python3.5/site-packages/sklearn/metrics/classification.py:1113: UndefinedMetricWarning: F-score is ill-defined and being set to 0.0 in labels with no predicted samples.\n",
      "  'precision', 'predicted', average, warn_for)\n"
     ]
    },
    {
     "name": "stdout",
     "output_type": "stream",
     "text": [
      "Mean: 71.3953488372093, Std: 4.656973115000182\n",
      "Accuracy: 66.15384615384615, F1 Score: 0.5031200031200032\n",
      "\n",
      "##################################################\n",
      "\n",
      "Using classifier: AdaBoostClassifier, Shape of data: 3, Thresh: 0.12401960790157318\n"
     ]
    },
    {
     "name": "stderr",
     "output_type": "stream",
     "text": [
      "/home/kinshiryuu/anaconda3/lib/python3.5/site-packages/sklearn/metrics/classification.py:1115: UndefinedMetricWarning: F-score is ill-defined and being set to 0.0 in labels with no true samples.\n",
      "  'recall', 'true', average, warn_for)\n"
     ]
    },
    {
     "name": "stdout",
     "output_type": "stream",
     "text": [
      "Mean: 44.651162790697676, Std: 7.26534853572712\n",
      "Accuracy: 43.07692307692308, F1 Score: 0.2797979797979798\n",
      "\n",
      "##################################################\n",
      "\n",
      "Using classifier: GradientBoostingClassifier, Shape of data: 3, Thresh: 0.12401960790157318\n",
      "Mean: 74.18604651162791, Std: 7.951312091757562\n",
      "Accuracy: 67.6923076923077, F1 Score: 0.5026807760141093\n",
      "\n",
      "##################################################\n",
      "\n",
      "Using classifier: GaussianProcessClassifier, Shape of data: 3, Thresh: 0.12401960790157318\n"
     ]
    },
    {
     "name": "stderr",
     "output_type": "stream",
     "text": [
      "/home/kinshiryuu/anaconda3/lib/python3.5/site-packages/sklearn/metrics/classification.py:1115: UndefinedMetricWarning: F-score is ill-defined and being set to 0.0 in labels with no true samples.\n",
      "  'recall', 'true', average, warn_for)\n"
     ]
    },
    {
     "name": "stdout",
     "output_type": "stream",
     "text": [
      "Mean: 51.86046511627907, Std: 8.579472904975217\n"
     ]
    },
    {
     "name": "stderr",
     "output_type": "stream",
     "text": [
      "/home/kinshiryuu/anaconda3/lib/python3.5/site-packages/sklearn/metrics/classification.py:1113: UndefinedMetricWarning: F-score is ill-defined and being set to 0.0 in labels with no predicted samples.\n",
      "  'precision', 'predicted', average, warn_for)\n",
      "/home/kinshiryuu/anaconda3/lib/python3.5/site-packages/sklearn/metrics/classification.py:1115: UndefinedMetricWarning: F-score is ill-defined and being set to 0.0 in labels with no true samples.\n",
      "  'recall', 'true', average, warn_for)\n",
      "/home/kinshiryuu/anaconda3/lib/python3.5/site-packages/sklearn/metrics/classification.py:1115: UndefinedMetricWarning: F-score is ill-defined and being set to 0.0 in labels with no true samples.\n",
      "  'recall', 'true', average, warn_for)\n",
      "/home/kinshiryuu/anaconda3/lib/python3.5/site-packages/sklearn/metrics/classification.py:1113: UndefinedMetricWarning: F-score is ill-defined and being set to 0.0 in labels with no predicted samples.\n",
      "  'precision', 'predicted', average, warn_for)\n",
      "/home/kinshiryuu/anaconda3/lib/python3.5/site-packages/sklearn/metrics/classification.py:1113: UndefinedMetricWarning: F-score is ill-defined and being set to 0.0 in labels with no predicted samples.\n",
      "  'precision', 'predicted', average, warn_for)\n"
     ]
    },
    {
     "name": "stdout",
     "output_type": "stream",
     "text": [
      "Accuracy: 50.76923076923077, F1 Score: 0.32634577897735795\n",
      "\n",
      "##################################################\n",
      "\n",
      "Using classifier: DecisionTreeClassifier, Shape of data: 3, Thresh: 0.12401960790157318\n",
      "Mean: 68.6046511627907, Std: 4.79430886699728\n",
      "Accuracy: 63.07692307692307, F1 Score: 0.4842221270792699\n",
      "\n",
      "##################################################\n",
      "\n",
      "Using classifier: ExtraTreeClassifier, Shape of data: 3, Thresh: 0.12401960790157318\n",
      "Mean: 64.65116279069768, Std: 7.190523178483864\n",
      "Accuracy: 67.6923076923077, F1 Score: 0.46471306471306467\n",
      "\n",
      "##################################################\n",
      "\n",
      "Using classifier: SVC, Shape of data: 2, Thresh: 0.19558823108673096\n",
      "Mean: 48.13953488372093, Std: 2.0930232558139537\n",
      "Accuracy: 46.15384615384615, F1 Score: 0.2509783160170296\n",
      "\n",
      "##################################################\n",
      "\n",
      "Using classifier: LinearSVC, Shape of data: 2, Thresh: 0.19558823108673096\n",
      "Mean: 52.093023255813954, Std: 3.6326742678635595\n",
      "Accuracy: 55.38461538461539, F1 Score: 0.35348355348355354\n",
      "\n",
      "##################################################\n",
      "\n",
      "Using classifier: KNeighborsClassifier, Shape of data: 2, Thresh: 0.19558823108673096\n",
      "Mean: 70.23255813953487, Std: 6.046511627906977\n",
      "Accuracy: 60.0, F1 Score: 0.4450591016548463\n",
      "\n",
      "##################################################\n",
      "\n",
      "Using classifier: GaussianNB, Shape of data: 2, Thresh: 0.19558823108673096\n",
      "Mean: 44.41860465116279, Std: 5.449011401795341\n",
      "Accuracy: 49.23076923076923, F1 Score: 0.3063139410597038\n",
      "\n",
      "##################################################\n",
      "\n",
      "Using classifier: MultinomialNB, Shape of data: 2, Thresh: 0.19558823108673096\n",
      "Mean: 34.88372093023256, Std: 5.551115123125783e-15\n",
      "Accuracy: 33.84615384615385, F1 Score: 0.1011494252873563\n",
      "\n",
      "##################################################\n",
      "\n",
      "Using classifier: LogisticRegression, Shape of data: 2, Thresh: 0.19558823108673096\n",
      "Mean: 49.30232558139536, Std: 5.581395348837208\n",
      "Accuracy: 55.38461538461539, F1 Score: 0.34497354497354504\n",
      "\n",
      "##################################################\n",
      "\n",
      "Using classifier: RidgeClassifier, Shape of data: 2, Thresh: 0.19558823108673096\n",
      "Mean: 49.302325581395344, Std: 3.572625929241211\n",
      "Accuracy: 52.307692307692314, F1 Score: 0.32566782810685246\n",
      "\n",
      "##################################################\n",
      "\n",
      "Using classifier: SGDClassifier, Shape of data: 2, Thresh: 0.19558823108673096\n"
     ]
    },
    {
     "name": "stderr",
     "output_type": "stream",
     "text": [
      "/home/kinshiryuu/anaconda3/lib/python3.5/site-packages/sklearn/metrics/classification.py:1113: UndefinedMetricWarning: F-score is ill-defined and being set to 0.0 in labels with no predicted samples.\n",
      "  'precision', 'predicted', average, warn_for)\n",
      "/home/kinshiryuu/anaconda3/lib/python3.5/site-packages/sklearn/metrics/classification.py:1113: UndefinedMetricWarning: F-score is ill-defined and being set to 0.0 in labels with no predicted samples.\n",
      "  'precision', 'predicted', average, warn_for)\n",
      "/home/kinshiryuu/anaconda3/lib/python3.5/site-packages/sklearn/metrics/classification.py:1113: UndefinedMetricWarning: F-score is ill-defined and being set to 0.0 in labels with no predicted samples.\n",
      "  'precision', 'predicted', average, warn_for)\n",
      "/home/kinshiryuu/anaconda3/lib/python3.5/site-packages/sklearn/metrics/classification.py:1113: UndefinedMetricWarning: F-score is ill-defined and being set to 0.0 in labels with no predicted samples.\n",
      "  'precision', 'predicted', average, warn_for)\n"
     ]
    },
    {
     "name": "stdout",
     "output_type": "stream",
     "text": [
      "Mean: 39.76744186046511, Std: 12.413028972169785\n",
      "Accuracy: 47.69230769230769, F1 Score: 0.2119047619047619\n",
      "\n",
      "##################################################\n",
      "\n",
      "Using classifier: RandomForestClassifier, Shape of data: 2, Thresh: 0.19558823108673096\n"
     ]
    },
    {
     "name": "stderr",
     "output_type": "stream",
     "text": [
      "/home/kinshiryuu/anaconda3/lib/python3.5/site-packages/sklearn/metrics/classification.py:1113: UndefinedMetricWarning: F-score is ill-defined and being set to 0.0 in labels with no predicted samples.\n",
      "  'precision', 'predicted', average, warn_for)\n",
      "/home/kinshiryuu/anaconda3/lib/python3.5/site-packages/sklearn/metrics/classification.py:1115: UndefinedMetricWarning: F-score is ill-defined and being set to 0.0 in labels with no true samples.\n",
      "  'recall', 'true', average, warn_for)\n"
     ]
    },
    {
     "name": "stdout",
     "output_type": "stream",
     "text": [
      "Mean: 68.13953488372093, Std: 5.887901814498682\n",
      "Accuracy: 56.92307692307692, F1 Score: 0.41553287981859405\n",
      "\n",
      "##################################################\n",
      "\n",
      "Using classifier: AdaBoostClassifier, Shape of data: 2, Thresh: 0.19558823108673096\n"
     ]
    },
    {
     "name": "stderr",
     "output_type": "stream",
     "text": [
      "/home/kinshiryuu/anaconda3/lib/python3.5/site-packages/sklearn/metrics/classification.py:1115: UndefinedMetricWarning: F-score is ill-defined and being set to 0.0 in labels with no true samples.\n",
      "  'recall', 'true', average, warn_for)\n"
     ]
    },
    {
     "name": "stdout",
     "output_type": "stream",
     "text": [
      "Mean: 41.86046511627907, Std: 9.8116386556879\n",
      "Accuracy: 40.0, F1 Score: 0.3200206398348813\n",
      "\n",
      "##################################################\n",
      "\n",
      "Using classifier: GradientBoostingClassifier, Shape of data: 2, Thresh: 0.19558823108673096\n"
     ]
    },
    {
     "name": "stderr",
     "output_type": "stream",
     "text": [
      "/home/kinshiryuu/anaconda3/lib/python3.5/site-packages/sklearn/metrics/classification.py:1113: UndefinedMetricWarning: F-score is ill-defined and being set to 0.0 in labels with no predicted samples.\n",
      "  'precision', 'predicted', average, warn_for)\n"
     ]
    },
    {
     "name": "stdout",
     "output_type": "stream",
     "text": [
      "Mean: 70.93023255813954, Std: 4.1925014830976615\n",
      "Accuracy: 63.07692307692307, F1 Score: 0.4897443826015255\n",
      "\n",
      "##################################################\n",
      "\n",
      "Using classifier: GaussianProcessClassifier, Shape of data: 2, Thresh: 0.19558823108673096\n"
     ]
    },
    {
     "name": "stderr",
     "output_type": "stream",
     "text": [
      "/home/kinshiryuu/anaconda3/lib/python3.5/site-packages/sklearn/metrics/classification.py:1115: UndefinedMetricWarning: F-score is ill-defined and being set to 0.0 in labels with no true samples.\n",
      "  'recall', 'true', average, warn_for)\n"
     ]
    },
    {
     "name": "stdout",
     "output_type": "stream",
     "text": [
      "Mean: 52.093023255813954, Std: 5.99260405894192\n"
     ]
    },
    {
     "name": "stderr",
     "output_type": "stream",
     "text": [
      "/home/kinshiryuu/anaconda3/lib/python3.5/site-packages/sklearn/metrics/classification.py:1113: UndefinedMetricWarning: F-score is ill-defined and being set to 0.0 in labels with no predicted samples.\n",
      "  'precision', 'predicted', average, warn_for)\n",
      "/home/kinshiryuu/anaconda3/lib/python3.5/site-packages/sklearn/metrics/classification.py:1115: UndefinedMetricWarning: F-score is ill-defined and being set to 0.0 in labels with no true samples.\n",
      "  'recall', 'true', average, warn_for)\n",
      "/home/kinshiryuu/anaconda3/lib/python3.5/site-packages/sklearn/metrics/classification.py:1115: UndefinedMetricWarning: F-score is ill-defined and being set to 0.0 in labels with no true samples.\n",
      "  'recall', 'true', average, warn_for)\n",
      "/home/kinshiryuu/anaconda3/lib/python3.5/site-packages/sklearn/metrics/classification.py:1113: UndefinedMetricWarning: F-score is ill-defined and being set to 0.0 in labels with no predicted samples.\n",
      "  'precision', 'predicted', average, warn_for)\n",
      "/home/kinshiryuu/anaconda3/lib/python3.5/site-packages/sklearn/metrics/classification.py:1113: UndefinedMetricWarning: F-score is ill-defined and being set to 0.0 in labels with no predicted samples.\n",
      "  'precision', 'predicted', average, warn_for)\n"
     ]
    },
    {
     "name": "stdout",
     "output_type": "stream",
     "text": [
      "Accuracy: 50.76923076923077, F1 Score: 0.3276537735074321\n",
      "\n",
      "##################################################\n",
      "\n",
      "Using classifier: DecisionTreeClassifier, Shape of data: 2, Thresh: 0.19558823108673096\n",
      "Mean: 61.395348837209305, Std: 5.620021383067243\n",
      "Accuracy: 52.307692307692314, F1 Score: 0.3842528272760832\n",
      "\n",
      "##################################################\n",
      "\n",
      "Using classifier: ExtraTreeClassifier, Shape of data: 2, Thresh: 0.19558823108673096\n",
      "Mean: 63.95348837209303, Std: 6.432240319041549\n",
      "Accuracy: 53.84615384615385, F1 Score: 0.42037037037037045\n",
      "\n",
      "##################################################\n",
      "\n",
      "Using classifier: SVC, Shape of data: 1, Thresh: 0.250980406999588\n",
      "Mean: 34.88372093023256, Std: 5.551115123125783e-15\n",
      "Accuracy: 33.84615384615385, F1 Score: 0.1011494252873563\n",
      "\n",
      "##################################################\n",
      "\n",
      "Using classifier: LinearSVC, Shape of data: 1, Thresh: 0.250980406999588\n",
      "Mean: 31.16279069767442, Std: 3.480611522580411\n",
      "Accuracy: 32.30769230769231, F1 Score: 0.1225609756097561\n",
      "\n",
      "##################################################\n",
      "\n",
      "Using classifier: KNeighborsClassifier, Shape of data: 1, Thresh: 0.250980406999588\n",
      "Mean: 52.32558139534884, Std: 6.760205513371457\n",
      "Accuracy: 43.07692307692308, F1 Score: 0.19979707266525623\n",
      "\n",
      "##################################################\n",
      "\n",
      "Using classifier: GaussianNB, Shape of data: 1, Thresh: 0.250980406999588\n",
      "Mean: 38.13953488372093, Std: 5.901663972302103\n",
      "Accuracy: 40.0, F1 Score: 0.2221316500157397\n",
      "\n",
      "##################################################\n",
      "\n",
      "Using classifier: MultinomialNB, Shape of data: 1, Thresh: 0.250980406999588\n",
      "Mean: 34.88372093023256, Std: 5.551115123125783e-15\n",
      "Accuracy: 33.84615384615385, F1 Score: 0.1011494252873563\n",
      "\n",
      "##################################################\n",
      "\n",
      "Using classifier: LogisticRegression, Shape of data: 1, Thresh: 0.250980406999588\n",
      "Mean: 31.860465116279073, Std: 4.034732923929646\n",
      "Accuracy: 33.84615384615385, F1 Score: 0.1011494252873563\n",
      "\n",
      "##################################################\n",
      "\n",
      "Using classifier: RidgeClassifier, Shape of data: 1, Thresh: 0.250980406999588\n",
      "Mean: 32.09302325581396, Std: 3.572625929241214\n",
      "Accuracy: 30.76923076923077, F1 Score: 0.09411764705882354\n",
      "\n",
      "##################################################\n",
      "\n",
      "Using classifier: SGDClassifier, Shape of data: 1, Thresh: 0.250980406999588\n"
     ]
    },
    {
     "name": "stderr",
     "output_type": "stream",
     "text": [
      "/home/kinshiryuu/anaconda3/lib/python3.5/site-packages/sklearn/metrics/classification.py:1113: UndefinedMetricWarning: F-score is ill-defined and being set to 0.0 in labels with no predicted samples.\n",
      "  'precision', 'predicted', average, warn_for)\n",
      "/home/kinshiryuu/anaconda3/lib/python3.5/site-packages/sklearn/metrics/classification.py:1115: UndefinedMetricWarning: F-score is ill-defined and being set to 0.0 in labels with no true samples.\n",
      "  'recall', 'true', average, warn_for)\n",
      "/home/kinshiryuu/anaconda3/lib/python3.5/site-packages/sklearn/metrics/classification.py:1113: UndefinedMetricWarning: F-score is ill-defined and being set to 0.0 in labels with no predicted samples.\n",
      "  'precision', 'predicted', average, warn_for)\n",
      "/home/kinshiryuu/anaconda3/lib/python3.5/site-packages/sklearn/metrics/classification.py:1113: UndefinedMetricWarning: F-score is ill-defined and being set to 0.0 in labels with no predicted samples.\n",
      "  'precision', 'predicted', average, warn_for)\n",
      "/home/kinshiryuu/anaconda3/lib/python3.5/site-packages/sklearn/metrics/classification.py:1113: UndefinedMetricWarning: F-score is ill-defined and being set to 0.0 in labels with no predicted samples.\n",
      "  'precision', 'predicted', average, warn_for)\n",
      "/home/kinshiryuu/anaconda3/lib/python3.5/site-packages/sklearn/metrics/classification.py:1113: UndefinedMetricWarning: F-score is ill-defined and being set to 0.0 in labels with no predicted samples.\n",
      "  'precision', 'predicted', average, warn_for)\n"
     ]
    },
    {
     "name": "stdout",
     "output_type": "stream",
     "text": [
      "Mean: 26.279069767441865, Std: 11.442711255946552\n",
      "Accuracy: 35.38461538461539, F1 Score: 0.1701830863121186\n",
      "\n",
      "##################################################\n",
      "\n",
      "Using classifier: RandomForestClassifier, Shape of data: 1, Thresh: 0.250980406999588\n"
     ]
    },
    {
     "name": "stderr",
     "output_type": "stream",
     "text": [
      "/home/kinshiryuu/anaconda3/lib/python3.5/site-packages/sklearn/metrics/classification.py:1113: UndefinedMetricWarning: F-score is ill-defined and being set to 0.0 in labels with no predicted samples.\n",
      "  'precision', 'predicted', average, warn_for)\n"
     ]
    },
    {
     "name": "stdout",
     "output_type": "stream",
     "text": [
      "Mean: 48.372093023255815, Std: 9.173526941077219\n",
      "Accuracy: 38.46153846153847, F1 Score: 0.23248644986449862\n",
      "\n",
      "##################################################\n",
      "\n",
      "Using classifier: AdaBoostClassifier, Shape of data: 1, Thresh: 0.250980406999588\n"
     ]
    },
    {
     "name": "stderr",
     "output_type": "stream",
     "text": [
      "/home/kinshiryuu/anaconda3/lib/python3.5/site-packages/sklearn/metrics/classification.py:1115: UndefinedMetricWarning: F-score is ill-defined and being set to 0.0 in labels with no true samples.\n",
      "  'recall', 'true', average, warn_for)\n"
     ]
    },
    {
     "name": "stdout",
     "output_type": "stream",
     "text": [
      "Mean: 46.74418604651163, Std: 4.344544579597534\n",
      "Accuracy: 38.46153846153847, F1 Score: 0.25943994601889336\n",
      "\n",
      "##################################################\n",
      "\n",
      "Using classifier: GradientBoostingClassifier, Shape of data: 1, Thresh: 0.250980406999588\n"
     ]
    },
    {
     "name": "stderr",
     "output_type": "stream",
     "text": [
      "/home/kinshiryuu/anaconda3/lib/python3.5/site-packages/sklearn/metrics/classification.py:1113: UndefinedMetricWarning: F-score is ill-defined and being set to 0.0 in labels with no predicted samples.\n",
      "  'precision', 'predicted', average, warn_for)\n"
     ]
    },
    {
     "name": "stdout",
     "output_type": "stream",
     "text": [
      "Mean: 50.0, Std: 9.54622127989479\n",
      "Accuracy: 38.46153846153847, F1 Score: 0.20278347195714833\n",
      "\n",
      "##################################################\n",
      "\n",
      "Using classifier: GaussianProcessClassifier, Shape of data: 1, Thresh: 0.250980406999588\n"
     ]
    },
    {
     "name": "stderr",
     "output_type": "stream",
     "text": [
      "/home/kinshiryuu/anaconda3/lib/python3.5/site-packages/sklearn/metrics/classification.py:1115: UndefinedMetricWarning: F-score is ill-defined and being set to 0.0 in labels with no true samples.\n",
      "  'recall', 'true', average, warn_for)\n"
     ]
    },
    {
     "name": "stdout",
     "output_type": "stream",
     "text": [
      "Mean: 32.79069767441861, Std: 3.023255813953489\n",
      "Accuracy: 32.30769230769231, F1 Score: 0.09767441860465118\n",
      "\n",
      "##################################################\n",
      "\n",
      "Using classifier: DecisionTreeClassifier, Shape of data: 1, Thresh: 0.250980406999588\n",
      "Mean: 46.51162790697675, Std: 3.120094852325287\n",
      "Accuracy: 38.46153846153847, F1 Score: 0.20278347195714833\n",
      "\n",
      "##################################################\n",
      "\n",
      "Using classifier: ExtraTreeClassifier, Shape of data: 1, Thresh: 0.250980406999588\n",
      "Mean: 45.34883720930233, Std: 5.014850849499494\n",
      "Accuracy: 38.46153846153847, F1 Score: 0.23839586339586338\n",
      "\n",
      "##################################################\n",
      "\n"
     ]
    },
    {
     "name": "stderr",
     "output_type": "stream",
     "text": [
      "/home/kinshiryuu/anaconda3/lib/python3.5/site-packages/sklearn/metrics/classification.py:1113: UndefinedMetricWarning: F-score is ill-defined and being set to 0.0 in labels with no predicted samples.\n",
      "  'precision', 'predicted', average, warn_for)\n",
      "/home/kinshiryuu/anaconda3/lib/python3.5/site-packages/sklearn/metrics/classification.py:1115: UndefinedMetricWarning: F-score is ill-defined and being set to 0.0 in labels with no true samples.\n",
      "  'recall', 'true', average, warn_for)\n",
      "/home/kinshiryuu/anaconda3/lib/python3.5/site-packages/sklearn/metrics/classification.py:1115: UndefinedMetricWarning: F-score is ill-defined and being set to 0.0 in labels with no true samples.\n",
      "  'recall', 'true', average, warn_for)\n"
     ]
    }
   ],
   "source": [
    "data_collected = []\n",
    "\n",
    "for thresh in thresholds:\n",
    "    selection = SelectFromModel(estimator=model, threshold=thresh, prefit=True)\n",
    "    select_X = selection.transform(X)\n",
    "    select_X_train = selection.transform(X_train)\n",
    "    select_X_test = selection.transform(X_test)\n",
    "    for name, classifier in zip(names, classifiers):\n",
    "        shape = select_X.shape[1]\n",
    "        print(\"Using classifier: {0}, Shape of data: {1}, Thresh: {2}\".format(name, shape, thresh))\n",
    "        results = cross_val_score(classifier, select_X, y, cv=cv)\n",
    "        print(\"Mean: {0}, Std: {1}\".format(results.mean()*100, results.std()*100))\n",
    "        classifier.fit(select_X_train, y_train)\n",
    "        data_collected.append({'shape':shape, 'name':name, 'classifier':classifier, 'results':results})\n",
    "        accuracy = accuracy_score(y_pred=classifier.predict(select_X_test), y_true=y_test)\n",
    "        delic = f1_score(y_pred=classifier.predict(select_X_test), y_true=y_test, average=\"macro\")\n",
    "        print(\"Accuracy: {0}, F1 Score: {1}\".format(accuracy*100, delic))\n",
    "        print(\"\\n##################################################\\n\")\n",
    "    "
   ]
  },
  {
   "cell_type": "code",
   "execution_count": 40,
   "metadata": {
    "collapsed": false,
    "scrolled": true
   },
   "outputs": [
    {
     "name": "stdout",
     "output_type": "stream",
     "text": [
      "Using neural network, Shape of data: 9, Thresh: 0.01617647148668766\n",
      "Mean: 49.06976869633031, Std: 5.54737698138032\n"
     ]
    },
    {
     "name": "stderr",
     "output_type": "stream",
     "text": [
      "/home/kinshiryuu/anaconda3/lib/python3.5/site-packages/sklearn/metrics/classification.py:1113: UndefinedMetricWarning: F-score is ill-defined and being set to 0.0 in labels with no predicted samples.\n",
      "  'precision', 'predicted', average, warn_for)\n"
     ]
    },
    {
     "name": "stdout",
     "output_type": "stream",
     "text": [
      "Accuracy: 44.61538461538462, F1 Score: 0.23814541622760804\n",
      "\n",
      "##################################################\n",
      "\n",
      "Using neural network, Shape of data: 8, Thresh: 0.0416666679084301\n",
      "Mean: 45.813954593830324, Std: 2.337180307006648\n",
      "Accuracy: 33.84615384615385, F1 Score: 0.1436399217221135\n",
      "\n",
      "##################################################\n",
      "\n",
      "Using neural network, Shape of data: 7, Thresh: 0.061274509876966476\n",
      "Mean: 48.37209428119105, Std: 6.961223239192066\n",
      "Accuracy: 43.07692307692308, F1 Score: 0.2677777777777778\n",
      "\n",
      "##################################################\n",
      "\n",
      "Using neural network, Shape of data: 6, Thresh: 0.07107843458652496\n",
      "Mean: 45.81395466660344, Std: 3.1287498917244987\n",
      "Accuracy: 35.38461538461539, F1 Score: 0.18055555555555555\n",
      "\n",
      "##################################################\n",
      "\n",
      "Using neural network, Shape of data: 5, Thresh: 0.11666666716337204\n",
      "Mean: 45.813954534918764, Std: 4.539353883138751\n",
      "Accuracy: 43.07692307692308, F1 Score: 0.2326659641728135\n",
      "\n",
      "##################################################\n",
      "\n",
      "Using neural network, Shape of data: 4, Thresh: 0.12254901975393295\n",
      "Mean: 44.41860582592875, Std: 4.344544679951891\n",
      "Accuracy: 44.61538461538462, F1 Score: 0.2365904365904366\n",
      "\n",
      "##################################################\n",
      "\n",
      "Using neural network, Shape of data: 3, Thresh: 0.12401960790157318\n",
      "Mean: 44.41860565959021, Std: 4.703197442993461\n",
      "Accuracy: 44.61538461538462, F1 Score: 0.2801801801801802\n",
      "\n",
      "##################################################\n",
      "\n",
      "Using neural network, Shape of data: 2, Thresh: 0.19558823108673096\n",
      "Mean: 47.674419689317084, Std: 7.589381109128057\n",
      "Accuracy: 44.61538461538462, F1 Score: 0.23203203203203207\n",
      "\n",
      "##################################################\n",
      "\n",
      "Using neural network, Shape of data: 1, Thresh: 0.250980406999588\n",
      "Mean: 34.88372180350991, Std: 1.909424734417272e-07\n",
      "Accuracy: 33.84615384615385, F1 Score: 0.1011494252873563\n",
      "\n",
      "##################################################\n",
      "\n"
     ]
    }
   ],
   "source": [
    "network_data = []\n",
    "\n",
    "for thresh in thresholds:\n",
    "    selection = SelectFromModel(estimator=model, threshold=thresh, prefit=True)\n",
    "    select_X = selection.transform(X)\n",
    "    select_X_train = selection.transform(X_train)\n",
    "    select_X_test = selection.transform(X_test)\n",
    "    shape = select_X.shape[1]\n",
    "    def create_network():\n",
    "    \n",
    "        model = Sequential()\n",
    "\n",
    "        model.add(Dense(32, activation='tanh', init='uniform', input_dim=shape))\n",
    "        model.add(Dense(18, activation='tanh', init='normal'))\n",
    "        model.add(Dense(8, activation=\"sigmoid\"))\n",
    "\n",
    "        model.compile(loss = 'categorical_crossentropy', optimizer='adam', metrics=['accuracy'])\n",
    "        return model\n",
    "    estimator = KerasClassifier(build_fn=create_network, nb_epoch=50, batch_size=5, verbose=0, shuffle=True)\n",
    "    print(\"Using neural network, Shape of data: {0}, Thresh: {1}\".format(shape, thresh))\n",
    "    results = cross_val_score(estimator, select_X, y, cv=cv)\n",
    "    print(\"Mean: {0}, Std: {1}\".format(results.mean()*100, results.std()*100))\n",
    "    network_data.append({\"shape\":shape, \"results\":results})\n",
    "    estimator.fit(select_X_train, y_train)\n",
    "    accuracy = accuracy_score(y_pred=estimator.predict(select_X_test), y_true=y_test)\n",
    "    delic = f1_score(y_pred=estimator.predict(select_X_test), y_true=y_test, average=\"macro\")\n",
    "    print(\"Accuracy: {0}, F1 Score: {1}\".format(accuracy*100, delic))\n",
    "    print(\"\\n##################################################\\n\")"
   ]
  },
  {
   "cell_type": "code",
   "execution_count": 42,
   "metadata": {
    "collapsed": false
   },
   "outputs": [],
   "source": [
    "data_collected = sorted(data_collected, key=lambda k: k['results'].mean())\n",
    "network_data = sorted(network_data, key=lambda k:k['results'].mean())\n"
   ]
  },
  {
   "cell_type": "code",
   "execution_count": 45,
   "metadata": {
    "collapsed": false,
    "scrolled": true
   },
   "outputs": [
    {
     "name": "stdout",
     "output_type": "stream",
     "text": [
      "0.262790697674\n",
      "0.311627906977\n",
      "0.318604651163\n",
      "0.320930232558\n",
      "0.327906976744\n",
      "0.346511627907\n",
      "0.348837209302\n",
      "0.348837209302\n",
      "0.348837209302\n",
      "0.355813953488\n",
      "0.358139534884\n",
      "0.358139534884\n",
      "0.358139534884\n",
      "0.381395348837\n",
      "0.390697674419\n",
      "0.397674418605\n",
      "0.404651162791\n",
      "0.406976744186\n",
      "0.413953488372\n",
      "0.413953488372\n",
      "0.418604651163\n",
      "0.418604651163\n",
      "0.418604651163\n",
      "0.43023255814\n",
      "0.432558139535\n",
      "0.43488372093\n",
      "0.441860465116\n",
      "0.444186046512\n",
      "0.446511627907\n",
      "0.446511627907\n",
      "0.453488372093\n",
      "0.453488372093\n",
      "0.455813953488\n",
      "0.458139534884\n",
      "0.460465116279\n",
      "0.460465116279\n",
      "0.462790697674\n",
      "0.46511627907\n",
      "0.467441860465\n",
      "0.46976744186\n",
      "0.46976744186\n",
      "0.479069767442\n",
      "0.479069767442\n",
      "0.479069767442\n",
      "0.481395348837\n",
      "0.483720930233\n",
      "0.486046511628\n",
      "0.488372093023\n",
      "0.493023255814\n",
      "0.493023255814\n",
      "0.493023255814\n",
      "0.493023255814\n",
      "0.497674418605\n",
      "0.5\n",
      "0.511627906977\n",
      "0.518604651163\n",
      "0.518604651163\n",
      "0.518604651163\n",
      "0.520930232558\n",
      "0.520930232558\n",
      "0.523255813953\n",
      "0.525581395349\n",
      "0.532558139535\n",
      "0.53488372093\n",
      "0.537209302326\n",
      "0.537209302326\n",
      "0.539534883721\n",
      "0.551162790698\n",
      "0.555813953488\n",
      "0.558139534884\n",
      "0.562790697674\n",
      "0.56511627907\n",
      "0.567441860465\n",
      "0.56976744186\n",
      "0.574418604651\n",
      "0.576744186047\n",
      "0.581395348837\n",
      "0.590697674419\n",
      "0.590697674419\n",
      "0.597674418605\n",
      "0.604651162791\n",
      "0.606976744186\n",
      "0.609302325581\n",
      "0.609302325581\n",
      "0.611627906977\n",
      "0.611627906977\n",
      "0.613953488372\n",
      "0.618604651163\n",
      "0.623255813953\n",
      "0.637209302326\n",
      "0.639534883721\n",
      "0.641860465116\n",
      "0.646511627907\n",
      "0.655813953488\n",
      "0.660465116279\n",
      "0.662790697674\n",
      "0.66976744186\n",
      "0.674418604651\n",
      "0.679069767442\n",
      "0.679069767442\n",
      "0.681395348837\n",
      "0.681395348837\n",
      "0.686046511628\n",
      "0.686046511628\n",
      "0.690697674419\n",
      "0.697674418605\n",
      "0.697674418605\n",
      "0.7\n",
      "0.702325581395\n",
      "0.709302325581\n",
      "0.713953488372\n",
      "0.713953488372\n",
      "0.727906976744\n",
      "0.727906976744\n",
      "0.73023255814\n",
      "0.737209302326\n",
      "0.741860465116\n",
      "0.746511627907\n",
      "0.746511627907\n",
      "0.748837209302\n",
      "0.755813953488\n",
      "0.76976744186\n",
      "0.772093023256\n",
      "0.776744186047\n",
      "0.776744186047\n",
      "0.795348837209\n"
     ]
    },
    {
     "data": {
      "text/plain": [
       "{'classifier': GradientBoostingClassifier(criterion='friedman_mse', init=None,\n",
       "               learning_rate=0.01, loss='deviance', max_depth=5,\n",
       "               max_features='log2', max_leaf_nodes=None,\n",
       "               min_impurity_split=1e-07, min_samples_leaf=1,\n",
       "               min_samples_split=3, min_weight_fraction_leaf=0.0,\n",
       "               n_estimators=250, presort='auto', random_state=None,\n",
       "               subsample=0.9, verbose=0, warm_start=False),\n",
       " 'name': 'GradientBoostingClassifier',\n",
       " 'results': array([ 0.81395349,  0.79069767,  0.8372093 ,  0.65116279,  0.79069767,\n",
       "         0.86046512,  0.8372093 ,  0.8372093 ,  0.76744186,  0.76744186]),\n",
       " 'shape': 9}"
      ]
     },
     "execution_count": 45,
     "metadata": {},
     "output_type": "execute_result"
    }
   ],
   "source": [
    "for data in data_collected:\n",
    "    print(data['results'].mean())\n",
    "    \n",
    "data_collected[-1]"
   ]
  },
  {
   "cell_type": "code",
   "execution_count": 47,
   "metadata": {
    "collapsed": false
   },
   "outputs": [
    {
     "name": "stdout",
     "output_type": "stream",
     "text": [
      "0.348837218035\n",
      "0.444186056596\n",
      "0.444186058259\n",
      "0.458139545349\n",
      "0.458139545938\n",
      "0.458139546666\n",
      "0.476744196893\n",
      "0.483720942812\n",
      "0.490697686963\n"
     ]
    },
    {
     "data": {
      "text/plain": [
       "{'results': array([ 0.58139537,  0.44186048,  0.44186048,  0.58139536,  0.46511629,\n",
       "         0.46511629,  0.51162792,  0.41860466,  0.46511629,  0.53488373]),\n",
       " 'shape': 9}"
      ]
     },
     "execution_count": 47,
     "metadata": {},
     "output_type": "execute_result"
    }
   ],
   "source": [
    "for data in network_data:\n",
    "    print(data['results'].mean())\n",
    "\n",
    "network_data[-1]"
   ]
  },
  {
   "cell_type": "code",
   "execution_count": null,
   "metadata": {
    "collapsed": true
   },
   "outputs": [],
   "source": []
  }
 ],
 "metadata": {
  "kernelspec": {
   "display_name": "Python [conda root]",
   "language": "python",
   "name": "conda-root-py"
  },
  "language_info": {
   "codemirror_mode": {
    "name": "ipython",
    "version": 3
   },
   "file_extension": ".py",
   "mimetype": "text/x-python",
   "name": "python",
   "nbconvert_exporter": "python",
   "pygments_lexer": "ipython3",
   "version": "3.5.2"
  }
 },
 "nbformat": 4,
 "nbformat_minor": 2
}
